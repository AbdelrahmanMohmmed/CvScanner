{
 "cells": [
  {
   "cell_type": "code",
   "execution_count": 2,
   "id": "c3f82334",
   "metadata": {},
   "outputs": [
    {
     "name": "stderr",
     "output_type": "stream",
     "text": [
      "\u001b[32m2025-08-29 20:43:04.914\u001b[0m | \u001b[1mINFO    \u001b[0m | \u001b[36mcvscanner.config\u001b[0m:\u001b[36m<module>\u001b[0m:\u001b[36m11\u001b[0m - \u001b[1mPROJ_ROOT path is: /home/jax/CvScanner\u001b[0m\n"
     ]
    },
    {
     "data": {
      "text/html": [
       "        <script type=\"text/javascript\">\n",
       "        window.PlotlyConfig = {MathJaxConfig: 'local'};\n",
       "        if (window.MathJax && window.MathJax.Hub && window.MathJax.Hub.Config) {window.MathJax.Hub.Config({SVG: {font: \"STIX-Web\"}});}\n",
       "        </script>\n",
       "        <script type=\"module\">import \"https://cdn.plot.ly/plotly-3.1.0.min\"</script>\n",
       "        "
      ]
     },
     "metadata": {},
     "output_type": "display_data"
    }
   ],
   "source": [
    "import sys\n",
    "import os\n",
    "\n",
    "project_root = os.path.abspath('..')\n",
    "if project_root not in sys.path:\n",
    "    sys.path.append(project_root)\n",
    "\n",
    "from cvscanner.modeling.NLP_methods import *"
   ]
  },
  {
   "cell_type": "code",
   "execution_count": 3,
   "id": "7aea3ca8",
   "metadata": {},
   "outputs": [],
   "source": [
    "json_file = '/home/jax/CvScanner/models/grouping.json'"
   ]
  },
  {
   "cell_type": "code",
   "execution_count": 4,
   "id": "a4268591",
   "metadata": {},
   "outputs": [],
   "source": [
    "category_resumes = load_category_data(json_file)"
   ]
  },
  {
   "cell_type": "code",
   "execution_count": 5,
   "id": "f162c1ce",
   "metadata": {},
   "outputs": [],
   "source": [
    "documents, categories, category_docs = prepare_training_data(category_resumes)\n"
   ]
  },
  {
   "cell_type": "code",
   "execution_count": 6,
   "id": "c7285369",
   "metadata": {},
   "outputs": [
    {
     "data": {
      "text/plain": [
       "{'Advocate',\n",
       " 'Arts',\n",
       " 'Automation Testing',\n",
       " 'Blockchain',\n",
       " 'Business Analyst',\n",
       " 'Civil Engineer',\n",
       " 'Data Science',\n",
       " 'Database',\n",
       " 'DevOps Engineer',\n",
       " 'DotNet Developer',\n",
       " 'ETL Developer',\n",
       " 'Electrical Engineering',\n",
       " 'HR',\n",
       " 'Hadoop',\n",
       " 'Health and fitness',\n",
       " 'Java Developer',\n",
       " 'Mechanical Engineer',\n",
       " 'Network Security Engineer',\n",
       " 'Operations Manager',\n",
       " 'PMO',\n",
       " 'Python Developer',\n",
       " 'SAP Developer',\n",
       " 'Sales',\n",
       " 'Testing',\n",
       " 'Web Designing'}"
      ]
     },
     "execution_count": 6,
     "metadata": {},
     "output_type": "execute_result"
    }
   ],
   "source": [
    "set(categories)"
   ]
  },
  {
   "cell_type": "code",
   "execution_count": 7,
   "id": "da84f851",
   "metadata": {},
   "outputs": [
    {
     "name": "stdout",
     "output_type": "stream",
     "text": [
      "Method 1 - Comparing with all resumes:\n",
      "1. Database: 13.9200\n",
      "2. Python Developer: 8.2900\n",
      "3. DevOps Engineer: 8.2500\n",
      "4. Java Developer: 7.4400\n",
      "5. Blockchain: 6.0100\n",
      "\n",
      "==================================================\n",
      "\n",
      "Method 2 - Comparing with category representatives:\n",
      "1. Database: 0.2168\n",
      "2. DevOps Engineer: 0.1452\n",
      "3. Python Developer: 0.1442\n",
      "4. Java Developer: 0.1234\n",
      "5. Data Science: 0.1032\n"
     ]
    }
   ],
   "source": [
    "text_cv = \"\"\"\n",
    "kills\n",
    "\n",
    "Technical Skills:\n",
    "\n",
    "    Programming Languages: \n",
    "    e.g.,SQL,PL/SQL,Python,Java\n",
    "\n",
    "    Database Systems: \n",
    "    e.g.,MySQL,PostgreSQL,MicrosoftSQLServer,Oracle,MongoDB\n",
    "\n",
    "    Cloud Platforms: \n",
    "    e.g.,AWS,GoogleCloudPlatform(GCP),MicrosoftAzure\n",
    "\n",
    "    Database Concepts: \n",
    "    e.g.,RelationalDatabaseManagementSystems(RDBMS),NoSQL,DataModeling,ETLProcesses,PerformanceTuning,Security\n",
    "\n",
    "Soft Skills:\n",
    "\n",
    "    Problem-Solving\n",
    "\n",
    "    Teamwork & Collaboration\n",
    "\n",
    "    Communication\n",
    "\n",
    "    Project Management\n",
    "\"\"\"\n",
    "\n",
    "# Path to your JSON file\n",
    "json_file_path = json_file\n",
    "\n",
    "try:\n",
    "    # Method 1: Compare with all individual resumes\n",
    "    print(\"Method 1 - Comparing with all resumes:\")\n",
    "    top_categories,similariries,vectorizer = find_top_categories(text_cv, json_file_path, top_n=5)\n",
    "    \n",
    "    for i, (category, score) in enumerate(top_categories, 1):\n",
    "        print(f\"{i}. {category}: {score:.4f}\")\n",
    "    \n",
    "    print(\"\\n\" + \"=\"*50 + \"\\n\")\n",
    "    \n",
    "    # Method 2: Compare with category representatives\n",
    "    print(\"Method 2 - Comparing with category representatives:\")\n",
    "    top_categories_alt = find_top_categories_alternative(text_cv, json_file_path, top_n=5)\n",
    "    \n",
    "    for i, (category, score) in enumerate(top_categories_alt, 1):\n",
    "        print(f\"{i}. {category}: {score:.4f}\")\n",
    "        \n",
    "except FileNotFoundError:\n",
    "    print(f\"JSON file not found at: {json_file_path}\")\n",
    "except Exception as e:\n",
    "    print(f\"Error: {e}\")"
   ]
  },
  {
   "cell_type": "code",
   "execution_count": 8,
   "id": "66d71a8c",
   "metadata": {},
   "outputs": [
    {
     "name": "stdout",
     "output_type": "stream",
     "text": [
      "Reducing dimensions with t-SNE...\n",
      "Visualization ready! Showing plot...\n"
     ]
    },
    {
     "data": {
      "application/vnd.plotly.v1+json": {
       "config": {
        "linkText": "Export to plot.ly",
        "plotlyServerURL": "https://plot.ly",
        "showLink": false
       },
       "data": [
        {
         "customdata": [
          [
           "Category: Advocate<br>Similarity: 0.003",
           "Advocate"
          ],
          [
           "Category: Advocate<br>Similarity: 0.000",
           "Advocate"
          ],
          [
           "Category: Advocate<br>Similarity: 0.000",
           "Advocate"
          ],
          [
           "Category: Advocate<br>Similarity: 0.000",
           "Advocate"
          ],
          [
           "Category: Advocate<br>Similarity: 0.002",
           "Advocate"
          ],
          [
           "Category: Advocate<br>Similarity: 0.003",
           "Advocate"
          ],
          [
           "Category: Advocate<br>Similarity: 0.000",
           "Advocate"
          ],
          [
           "Category: Advocate<br>Similarity: 0.000",
           "Advocate"
          ],
          [
           "Category: Advocate<br>Similarity: 0.000",
           "Advocate"
          ],
          [
           "Category: Advocate<br>Similarity: 0.000",
           "Advocate"
          ]
         ],
         "hovertemplate": "size=%{marker.size}<br>hover_text=%{customdata[0]}<extra></extra>",
         "legendgroup": "Advocate",
         "marker": {
          "color": "#636efa",
          "opacity": 0.7,
          "size": {
           "bdata": "uNPbmuQ7FEAAAAAAAAAUQAAAAAAAABRAAAAAAAAAFEBgsw5jmCcUQFHnix7vNRRAAAAAAAAAFEAAAAAAAAAUQAAAAAAAABRAAAAAAAAAFEA=",
           "dtype": "f8"
          },
          "sizemode": "area",
          "sizeref": 0.021618667610391044,
          "symbol": "circle"
         },
         "mode": "markers",
         "name": "Advocate",
         "orientation": "v",
         "showlegend": true,
         "type": "scatter",
         "x": {
          "bdata": "e28zQfDc8EB07RxBnA4SQZo8K0EEDDpB4JBVwflbG0F89TBBDTVVwQ==",
          "dtype": "f4"
         },
         "xaxis": "x",
         "y": {
          "bdata": "28chwTeGA8F/4wvBJSbiwKb8G8FI0kbB2VSHwM3AFcHeZg3BpQeHwA==",
          "dtype": "f4"
         },
         "yaxis": "y"
        },
        {
         "customdata": [
          [
           "Category: Arts<br>Similarity: 0.057",
           "Arts"
          ],
          [
           "Category: Arts<br>Similarity: 0.000",
           "Arts"
          ],
          [
           "Category: Arts<br>Similarity: 0.025",
           "Arts"
          ],
          [
           "Category: Arts<br>Similarity: 0.000",
           "Arts"
          ],
          [
           "Category: Arts<br>Similarity: 0.000",
           "Arts"
          ],
          [
           "Category: Arts<br>Similarity: 0.000",
           "Arts"
          ]
         ],
         "hovertemplate": "size=%{marker.size}<br>hover_text=%{customdata[0]}<extra></extra>",
         "legendgroup": "Arts",
         "marker": {
          "color": "#EF553B",
          "opacity": 0.7,
          "size": {
           "bdata": "fw0/9GaLGEAAAAAAAAAUQMJC8lWXAhZAAAAAAAAAFEAAAAAAAAAUQAAAAAAAABRA",
           "dtype": "f8"
          },
          "sizemode": "area",
          "sizeref": 0.021618667610391044,
          "symbol": "circle"
         },
         "mode": "markers",
         "name": "Arts",
         "orientation": "v",
         "showlegend": true,
         "type": "scatter",
         "x": {
          "bdata": "FfUzwZ0NMMGtQBLB5X06wZ9OZ8FSVDDB",
          "dtype": "f4"
         },
         "xaxis": "x",
         "y": {
          "bdata": "HycDQbrkuEDvlKlAbrOQQGj0PEDOTLNA",
          "dtype": "f4"
         },
         "yaxis": "y"
        },
        {
         "customdata": [
          [
           "Category: Automation Testing<br>Similarity: 0.004",
           "Automation Testing"
          ],
          [
           "Category: Automation Testing<br>Similarity: 0.016",
           "Automation Testing"
          ],
          [
           "Category: Automation Testing<br>Similarity: 0.069",
           "Automation Testing"
          ],
          [
           "Category: Automation Testing<br>Similarity: 0.050",
           "Automation Testing"
          ],
          [
           "Category: Automation Testing<br>Similarity: 0.011",
           "Automation Testing"
          ],
          [
           "Category: Automation Testing<br>Similarity: 0.015",
           "Automation Testing"
          ],
          [
           "Category: Automation Testing<br>Similarity: 0.064",
           "Automation Testing"
          ]
         ],
         "hovertemplate": "size=%{marker.size}<br>hover_text=%{customdata[0]}<extra></extra>",
         "legendgroup": "Automation Testing",
         "marker": {
          "color": "#00cc96",
          "opacity": 0.7,
          "size": {
           "bdata": "Jl0N04RLFECGRJQwGUMVQEJv2d0oexlAx2Crp37+F0CSpRWfd+QUQJFa4nGdPBVAysYRh8MdGUA=",
           "dtype": "f8"
          },
          "sizemode": "area",
          "sizeref": 0.021618667610391044,
          "symbol": "circle"
         },
         "mode": "markers",
         "name": "Automation Testing",
         "orientation": "v",
         "showlegend": true,
         "type": "scatter",
         "x": {
          "bdata": "MLx6v8dUsMC3Wa0+hIbdv5d4l74fWVq/iweDPw==",
          "dtype": "f4"
         },
         "xaxis": "x",
         "y": {
          "bdata": "AMaHQLl9N0F4sk1AR2tbQFhSDUBvl1BAtFtjQA==",
          "dtype": "f4"
         },
         "yaxis": "y"
        },
        {
         "customdata": [
          [
           "Category: Blockchain<br>Similarity: 0.010",
           "Blockchain"
          ],
          [
           "Category: Blockchain<br>Similarity: 0.143",
           "Blockchain"
          ],
          [
           "Category: Blockchain<br>Similarity: 0.062",
           "Blockchain"
          ],
          [
           "Category: Blockchain<br>Similarity: 0.062",
           "Blockchain"
          ],
          [
           "Category: Blockchain<br>Similarity: 0.023",
           "Blockchain"
          ]
         ],
         "hovertemplate": "size=%{marker.size}<br>hover_text=%{customdata[0]}<extra></extra>",
         "legendgroup": "Blockchain",
         "marker": {
          "color": "#ab63fa",
          "opacity": 0.7,
          "size": {
           "bdata": "EoYzEk/SFECB2D048HUfQHtBCOkK7hhATo9ShED3GECFrHmYsd0VQA==",
           "dtype": "f8"
          },
          "sizemode": "area",
          "sizeref": 0.021618667610391044,
          "symbol": "circle"
         },
         "mode": "markers",
         "name": "Blockchain",
         "orientation": "v",
         "showlegend": true,
         "type": "scatter",
         "x": {
          "bdata": "YXCaQOQQvUBZuIpAvyi8QHFrBUE=",
          "dtype": "f4"
         },
         "xaxis": "x",
         "y": {
          "bdata": "ztKbvwE7l79er7K/AUmBvyQ+lr8=",
          "dtype": "f4"
         },
         "yaxis": "y"
        },
        {
         "customdata": [
          [
           "Category: Business Analyst<br>Similarity: 0.019",
           "Business Analyst"
          ],
          [
           "Category: Business Analyst<br>Similarity: 0.036",
           "Business Analyst"
          ],
          [
           "Category: Business Analyst<br>Similarity: 0.044",
           "Business Analyst"
          ],
          [
           "Category: Business Analyst<br>Similarity: 0.018",
           "Business Analyst"
          ],
          [
           "Category: Business Analyst<br>Similarity: 0.024",
           "Business Analyst"
          ],
          [
           "Category: Business Analyst<br>Similarity: 0.002",
           "Business Analyst"
          ]
         ],
         "hovertemplate": "size=%{marker.size}<br>hover_text=%{customdata[0]}<extra></extra>",
         "legendgroup": "Business Analyst",
         "marker": {
          "color": "#FFA15A",
          "opacity": 0.7,
          "size": {
           "bdata": "UijMMWN9FUA3qfI43OMWQEqR5S3YiBdALggOL3pqFUCR3SJTb+gVQJnYyV/9JhRA",
           "dtype": "f8"
          },
          "sizemode": "area",
          "sizeref": 0.021618667610391044,
          "symbol": "circle"
         },
         "mode": "markers",
         "name": "Business Analyst",
         "orientation": "v",
         "showlegend": true,
         "type": "scatter",
         "x": {
          "bdata": "0t2GwOSucsDRJGXAUOxdwEHQRL9NS7zA",
          "dtype": "f4"
         },
         "xaxis": "x",
         "y": {
          "bdata": "kChYQM/coT+UoH1A74yCQF0xUb9vC7w/",
          "dtype": "f4"
         },
         "yaxis": "y"
        },
        {
         "customdata": [
          [
           "Category: Civil Engineer<br>Similarity: 0.033",
           "Civil Engineer"
          ],
          [
           "Category: Civil Engineer<br>Similarity: 0.000",
           "Civil Engineer"
          ],
          [
           "Category: Civil Engineer<br>Similarity: 0.025",
           "Civil Engineer"
          ],
          [
           "Category: Civil Engineer<br>Similarity: 0.027",
           "Civil Engineer"
          ],
          [
           "Category: Civil Engineer<br>Similarity: 0.016",
           "Civil Engineer"
          ],
          [
           "Category: Civil Engineer<br>Similarity: 0.000",
           "Civil Engineer"
          ]
         ],
         "hovertemplate": "size=%{marker.size}<br>hover_text=%{customdata[0]}<extra></extra>",
         "legendgroup": "Civil Engineer",
         "marker": {
          "color": "#19d3f3",
          "opacity": 0.7,
          "size": {
           "bdata": "jVNknO6lFkAAAAAAAAAUQFYBsSTZ9hVAGKyNpwIiFkAWR7vL60kVQAAAAAAAABRA",
           "dtype": "f8"
          },
          "sizemode": "area",
          "sizeref": 0.021618667610391044,
          "symbol": "circle"
         },
         "mode": "markers",
         "name": "Civil Engineer",
         "orientation": "v",
         "showlegend": true,
         "type": "scatter",
         "x": {
          "bdata": "gRYOwcyqK8HNnhrB9F0Uwe16I8HfZzLB",
          "dtype": "f4"
         },
         "xaxis": "x",
         "y": {
          "bdata": "BYQcQCR80T4K5Jc/FUQAQPpIjD/8ZIM+",
          "dtype": "f4"
         },
         "yaxis": "y"
        },
        {
         "customdata": [
          [
           "Category: Data Science<br>Similarity: 0.045",
           "Data Science"
          ],
          [
           "Category: Data Science<br>Similarity: 0.032",
           "Data Science"
          ],
          [
           "Category: Data Science<br>Similarity: 0.078",
           "Data Science"
          ],
          [
           "Category: Data Science<br>Similarity: 0.087",
           "Data Science"
          ],
          [
           "Category: Data Science<br>Similarity: 0.041",
           "Data Science"
          ],
          [
           "Category: Data Science<br>Similarity: 0.011",
           "Data Science"
          ],
          [
           "Category: Data Science<br>Similarity: 0.032",
           "Data Science"
          ],
          [
           "Category: Data Science<br>Similarity: 0.073",
           "Data Science"
          ],
          [
           "Category: Data Science<br>Similarity: 0.054",
           "Data Science"
          ],
          [
           "Category: Data Science<br>Similarity: 0.039",
           "Data Science"
          ]
         ],
         "hovertemplate": "size=%{marker.size}<br>hover_text=%{customdata[0]}<extra></extra>",
         "legendgroup": "Data Science",
         "marker": {
          "color": "#FF6692",
          "opacity": 0.7,
          "size": {
           "bdata": "JViBURuUF0CXDCreaYcWQDvn68nfOhpACuJOXDj+GkCDeqsXxEwXQHDPYFEN1xRA5hRxZDiKFkB5qOB/nd8ZQP7c31BmWxhApPNAuE4YF0A=",
           "dtype": "f8"
          },
          "sizemode": "area",
          "sizeref": 0.021618667610391044,
          "symbol": "circle"
         },
         "mode": "markers",
         "name": "Data Science",
         "orientation": "v",
         "showlegend": true,
         "type": "scatter",
         "x": {
          "bdata": "h6A4QW5tCkEqfP1AoXySQAjkAEHdCBJB25UkQaygQEFN+UZBZU0lQQ==",
          "dtype": "f4"
         },
         "xaxis": "x",
         "y": {
          "bdata": "MJ9gv+Rek8B74oXA+7M+QTGAo8A2DnvAqVuZv3Rg8L+UFATAULmKvw==",
          "dtype": "f4"
         },
         "yaxis": "y"
        },
        {
         "customdata": [
          [
           "Category: Database<br>Similarity: 0.182",
           "Database"
          ],
          [
           "Category: Database<br>Similarity: 0.144",
           "Database"
          ],
          [
           "Category: Database<br>Similarity: 0.114",
           "Database"
          ],
          [
           "Category: Database<br>Similarity: 0.161",
           "Database"
          ],
          [
           "Category: Database<br>Similarity: 0.137",
           "Database"
          ],
          [
           "Category: Database<br>Similarity: 0.168",
           "Database"
          ],
          [
           "Category: Database<br>Similarity: 0.134",
           "Database"
          ],
          [
           "Category: Database<br>Similarity: 0.137",
           "Database"
          ],
          [
           "Category: Database<br>Similarity: 0.061",
           "Database"
          ],
          [
           "Category: Database<br>Similarity: 0.148",
           "Database"
          ],
          [
           "Category: Database<br>Similarity: 0.147",
           "Database"
          ]
         ],
         "hovertemplate": "size=%{marker.size}<br>hover_text=%{customdata[0]}<extra></extra>",
         "legendgroup": "Database",
         "marker": {
          "color": "#B6E880",
          "opacity": 0.7,
          "size": {
           "bdata": "esfnzIBLIUCY4akOln8fQIi3GNqtGh1AeMALZJNuIEC+5xwCkeweQILVrw8IuyBAG1dHuSSyHkCDuVZLB+weQFXiMkOA3xhAoZwWz+PMH0AOoQlPJ7sfQA==",
           "dtype": "f8"
          },
          "sizemode": "area",
          "sizeref": 0.021618667610391044,
          "symbol": "circle"
         },
         "mode": "markers",
         "name": "Database",
         "orientation": "v",
         "showlegend": true,
         "type": "scatter",
         "x": {
          "bdata": "4XfFwBAbvcANfKXAK97zwDZOrMDKhwLBrqrqwMqYqcAEROjAOPkBwe5CIUE=",
          "dtype": "f4"
         },
         "xaxis": "x",
         "y": {
          "bdata": "F/ihwHMkucAD/cTAuKWGwCmaQ8B+hJHANmRjwDtNq8BzFy3A3nZlwJzlszw=",
          "dtype": "f4"
         },
         "yaxis": "y"
        },
        {
         "customdata": [
          [
           "Category: DevOps Engineer<br>Similarity: 0.150",
           "DevOps Engineer"
          ],
          [
           "Category: DevOps Engineer<br>Similarity: 0.087",
           "DevOps Engineer"
          ],
          [
           "Category: DevOps Engineer<br>Similarity: 0.040",
           "DevOps Engineer"
          ],
          [
           "Category: DevOps Engineer<br>Similarity: 0.117",
           "DevOps Engineer"
          ],
          [
           "Category: DevOps Engineer<br>Similarity: 0.060",
           "DevOps Engineer"
          ],
          [
           "Category: DevOps Engineer<br>Similarity: 0.074",
           "DevOps Engineer"
          ],
          [
           "Category: DevOps Engineer<br>Similarity: 0.050",
           "DevOps Engineer"
          ]
         ],
         "hovertemplate": "size=%{marker.size}<br>hover_text=%{customdata[0]}<extra></extra>",
         "legendgroup": "DevOps Engineer",
         "marker": {
          "color": "#FF97FF",
          "opacity": 0.7,
          "size": {
           "bdata": "mLd6g377H0AD8MkH0e8aQBa9/UVbLRdA1xmrraldHUByB49TNcgYQNy7hKFF9BlAA4es5B4GGEA=",
           "dtype": "f8"
          },
          "sizemode": "area",
          "sizeref": 0.021618667610391044,
          "symbol": "circle"
         },
         "mode": "markers",
         "name": "DevOps Engineer",
         "orientation": "v",
         "showlegend": true,
         "type": "scatter",
         "x": {
          "bdata": "ujWUwHlczEBTUofAEiQkwGRjAMBYCzy/OlIWwA==",
          "dtype": "f4"
         },
         "xaxis": "x",
         "y": {
          "bdata": "h2Kqv3+zfcCk/RG/rFSzwJXyz0AGvuhAHddBQA==",
          "dtype": "f4"
         },
         "yaxis": "y"
        },
        {
         "customdata": [
          [
           "Category: DotNet Developer<br>Similarity: 0.060",
           "DotNet Developer"
          ],
          [
           "Category: DotNet Developer<br>Similarity: 0.025",
           "DotNet Developer"
          ],
          [
           "Category: DotNet Developer<br>Similarity: 0.030",
           "DotNet Developer"
          ],
          [
           "Category: DotNet Developer<br>Similarity: 0.000",
           "DotNet Developer"
          ],
          [
           "Category: DotNet Developer<br>Similarity: 0.063",
           "DotNet Developer"
          ],
          [
           "Category: DotNet Developer<br>Similarity: 0.071",
           "DotNet Developer"
          ],
          [
           "Category: DotNet Developer<br>Similarity: 0.049",
           "DotNet Developer"
          ]
         ],
         "hovertemplate": "size=%{marker.size}<br>hover_text=%{customdata[0]}<extra></extra>",
         "legendgroup": "DotNet Developer",
         "marker": {
          "color": "#FECB52",
          "opacity": 0.7,
          "size": {
           "bdata": "NqIfwuXGGECrRCPNw/YVQF3qZFsscBZAAAAAAAAAFECFRJbh4A0ZQAb7WQyPpxlAdDDbFVTjF0A=",
           "dtype": "f8"
          },
          "sizemode": "area",
          "sizeref": 0.021618667610391044,
          "symbol": "circle"
         },
         "mode": "markers",
         "name": "DotNet Developer",
         "orientation": "v",
         "showlegend": true,
         "type": "scatter",
         "x": {
          "bdata": "2zSYv/d4xD5/y+O+3ABkPryt579yiXm/BKmVvw==",
          "dtype": "f4"
         },
         "xaxis": "x",
         "y": {
          "bdata": "KT2kwLw3i8Bfl77AvY5xwA4vyMC+UtbACPi+wA==",
          "dtype": "f4"
         },
         "yaxis": "y"
        },
        {
         "customdata": [
          [
           "Category: ETL Developer<br>Similarity: 0.034",
           "ETL Developer"
          ],
          [
           "Category: ETL Developer<br>Similarity: 0.058",
           "ETL Developer"
          ],
          [
           "Category: ETL Developer<br>Similarity: 0.091",
           "ETL Developer"
          ],
          [
           "Category: ETL Developer<br>Similarity: 0.065",
           "ETL Developer"
          ],
          [
           "Category: ETL Developer<br>Similarity: 0.020",
           "ETL Developer"
          ]
         ],
         "hovertemplate": "size=%{marker.size}<br>hover_text=%{customdata[0]}<extra></extra>",
         "legendgroup": "ETL Developer",
         "marker": {
          "color": "#636efa",
          "opacity": 0.7,
          "size": {
           "bdata": "K0JxLcW5FkA2ree7xagYQHCCeENtUBtAlDH6P8UqGUAiCJMBt48VQA==",
           "dtype": "f8"
          },
          "sizemode": "area",
          "sizeref": 0.021618667610391044,
          "symbol": "circle"
         },
         "mode": "markers",
         "name": "ETL Developer",
         "orientation": "v",
         "showlegend": true,
         "type": "scatter",
         "x": {
          "bdata": "YLi2vUg2Zj71SuC8ooK1Pp5Qo78=",
          "dtype": "f4"
         },
         "xaxis": "x",
         "y": {
          "bdata": "YH5VQbRaYUFgJGZBHotJQeV1WUE=",
          "dtype": "f4"
         },
         "yaxis": "y"
        },
        {
         "customdata": [
          [
           "Category: Electrical Engineering<br>Similarity: 0.051",
           "Electrical Engineering"
          ],
          [
           "Category: Electrical Engineering<br>Similarity: 0.005",
           "Electrical Engineering"
          ],
          [
           "Category: Electrical Engineering<br>Similarity: 0.055",
           "Electrical Engineering"
          ],
          [
           "Category: Electrical Engineering<br>Similarity: 0.000",
           "Electrical Engineering"
          ],
          [
           "Category: Electrical Engineering<br>Similarity: 0.034",
           "Electrical Engineering"
          ]
         ],
         "hovertemplate": "size=%{marker.size}<br>hover_text=%{customdata[0]}<extra></extra>",
         "legendgroup": "Electrical Engineering",
         "marker": {
          "color": "#EF553B",
          "opacity": 0.7,
          "size": {
           "bdata": "D0QkRI4XGECy1VHI0G8UQFjxBOmBZhhAAAAAAAAAFEB4k1dZJq4WQA==",
           "dtype": "f8"
          },
          "sizemode": "area",
          "sizeref": 0.021618667610391044,
          "symbol": "circle"
         },
         "mode": "markers",
         "name": "Electrical Engineering",
         "orientation": "v",
         "showlegend": true,
         "type": "scatter",
         "x": {
          "bdata": "4Tj4wJx0GMFL0NbAWJwLwWek6sA=",
          "dtype": "f4"
         },
         "xaxis": "x",
         "y": {
          "bdata": "Ncc0QfBxLUGTozpB2GUyQbm2P0E=",
          "dtype": "f4"
         },
         "yaxis": "y"
        },
        {
         "customdata": [
          [
           "Category: HR<br>Similarity: 0.009",
           "HR"
          ],
          [
           "Category: HR<br>Similarity: 0.017",
           "HR"
          ],
          [
           "Category: HR<br>Similarity: 0.000",
           "HR"
          ],
          [
           "Category: HR<br>Similarity: 0.000",
           "HR"
          ],
          [
           "Category: HR<br>Similarity: 0.045",
           "HR"
          ],
          [
           "Category: HR<br>Similarity: 0.000",
           "HR"
          ],
          [
           "Category: HR<br>Similarity: 0.030",
           "HR"
          ],
          [
           "Category: HR<br>Similarity: 0.000",
           "HR"
          ],
          [
           "Category: HR<br>Similarity: 0.004",
           "HR"
          ],
          [
           "Category: HR<br>Similarity: 0.051",
           "HR"
          ]
         ],
         "hovertemplate": "size=%{marker.size}<br>hover_text=%{customdata[0]}<extra></extra>",
         "legendgroup": "HR",
         "marker": {
          "color": "#00cc96",
          "opacity": 0.7,
          "size": {
           "bdata": "X1iBGiOzFEAkBtirxF8VQAAAAAAAABRAAAAAAAAAFEB6q2EIoJwXQAAAAAAAABRANDXDrIljFkAAAAAAAAAUQJYa9bQjTxRAOZYmpZMYGEA=",
           "dtype": "f8"
          },
          "sizemode": "area",
          "sizeref": 0.021618667610391044,
          "symbol": "circle"
         },
         "mode": "markers",
         "name": "HR",
         "orientation": "v",
         "showlegend": true,
         "type": "scatter",
         "x": {
          "bdata": "nrjcQNo+2r/r2Oc/Nbo6QTWk5j+UuNtAUZ7QQJyfKsFZfe8/vzGyQA==",
          "dtype": "f4"
         },
         "xaxis": "x",
         "y": {
          "bdata": "vk1bwYrQEkFaAXvB1PVLwUU/e8Ek5FvBVrsCwTXIGEFDbgu/INDzwA==",
          "dtype": "f4"
         },
         "yaxis": "y"
        },
        {
         "customdata": [
          [
           "Category: Hadoop<br>Similarity: 0.077",
           "Hadoop"
          ],
          [
           "Category: Hadoop<br>Similarity: 0.038",
           "Hadoop"
          ],
          [
           "Category: Hadoop<br>Similarity: 0.014",
           "Hadoop"
          ],
          [
           "Category: Hadoop<br>Similarity: 0.054",
           "Hadoop"
          ],
          [
           "Category: Hadoop<br>Similarity: 0.072",
           "Hadoop"
          ],
          [
           "Category: Hadoop<br>Similarity: 0.103",
           "Hadoop"
          ],
          [
           "Category: Hadoop<br>Similarity: 0.046",
           "Hadoop"
          ]
         ],
         "hovertemplate": "size=%{marker.size}<br>hover_text=%{customdata[0]}<extra></extra>",
         "legendgroup": "Hadoop",
         "marker": {
          "color": "#ab63fa",
          "opacity": 0.7,
          "size": {
           "bdata": "TGnLUmktGkC/1/zOEAwXQNy+jsYtHxVAAP81o4xPGEBqnAgyfLgZQOysI2okNBxArr/Awm6tF0A=",
           "dtype": "f8"
          },
          "sizemode": "area",
          "sizeref": 0.021618667610391044,
          "symbol": "circle"
         },
         "mode": "markers",
         "name": "Hadoop",
         "orientation": "v",
         "showlegend": true,
         "type": "scatter",
         "x": {
          "bdata": "11jHwBuQ1sDoNLbAbnigwDNvusAsps3A6QWXwA==",
          "dtype": "f4"
         },
         "xaxis": "x",
         "y": {
          "bdata": "3RA9wX5dL8Gz0TjB1MkrwUx6LcH6Ix/BFLU8wQ==",
          "dtype": "f4"
         },
         "yaxis": "y"
        },
        {
         "customdata": [
          [
           "Category: Health and fitness<br>Similarity: 0.000",
           "Health and fitness"
          ],
          [
           "Category: Health and fitness<br>Similarity: 0.000",
           "Health and fitness"
          ],
          [
           "Category: Health and fitness<br>Similarity: 0.006",
           "Health and fitness"
          ],
          [
           "Category: Health and fitness<br>Similarity: 0.009",
           "Health and fitness"
          ],
          [
           "Category: Health and fitness<br>Similarity: 0.014",
           "Health and fitness"
          ],
          [
           "Category: Health and fitness<br>Similarity: 0.004",
           "Health and fitness"
          ]
         ],
         "hovertemplate": "size=%{marker.size}<br>hover_text=%{customdata[0]}<extra></extra>",
         "legendgroup": "Health and fitness",
         "marker": {
          "color": "#FFA15A",
          "opacity": 0.7,
          "size": {
           "bdata": "AAAAAAAAFEAAAAAAAAAUQEkiNyJtfRRAHWwgYEe1FEAzVI/fJh0VQEMHakkLVhRA",
           "dtype": "f8"
          },
          "sizemode": "area",
          "sizeref": 0.021618667610391044,
          "symbol": "circle"
         },
         "mode": "markers",
         "name": "Health and fitness",
         "orientation": "v",
         "showlegend": true,
         "type": "scatter",
         "x": {
          "bdata": "YU5zwV7pfcE+jIDB5KmAwYWMfsHyEn7B",
          "dtype": "f4"
         },
         "xaxis": "x",
         "y": {
          "bdata": "I/FLQCoxq0CJYnNAeTZlQDVQ20AHN7xA",
          "dtype": "f4"
         },
         "yaxis": "y"
        },
        {
         "customdata": [
          [
           "Category: Java Developer<br>Similarity: 0.062",
           "Java Developer"
          ],
          [
           "Category: Java Developer<br>Similarity: 0.077",
           "Java Developer"
          ],
          [
           "Category: Java Developer<br>Similarity: 0.105",
           "Java Developer"
          ],
          [
           "Category: Java Developer<br>Similarity: 0.085",
           "Java Developer"
          ],
          [
           "Category: Java Developer<br>Similarity: 0.141",
           "Java Developer"
          ],
          [
           "Category: Java Developer<br>Similarity: 0.056",
           "Java Developer"
          ],
          [
           "Category: Java Developer<br>Similarity: 0.070",
           "Java Developer"
          ],
          [
           "Category: Java Developer<br>Similarity: 0.081",
           "Java Developer"
          ],
          [
           "Category: Java Developer<br>Similarity: 0.063",
           "Java Developer"
          ],
          [
           "Category: Java Developer<br>Similarity: 0.075",
           "Java Developer"
          ],
          [
           "Category: Java Developer<br>Similarity: 0.062",
           "Java Developer"
          ],
          [
           "Category: Java Developer<br>Similarity: 0.036",
           "Java Developer"
          ],
          [
           "Category: Java Developer<br>Similarity: 0.056",
           "Java Developer"
          ]
         ],
         "hovertemplate": "size=%{marker.size}<br>hover_text=%{customdata[0]}<extra></extra>",
         "legendgroup": "Java Developer",
         "marker": {
          "color": "#19d3f3",
          "opacity": 0.7,
          "size": {
           "bdata": "5i47p4vyGECR7s6lJCoaQLwzj4tkbBxAUmwLIlrDGkCwuCKk6UUfQPYpfBeLchhA7gej+VGUGUCZ9pXaj4AaQHq8gSPnBRlAIlOZjzr3GUDyQslRrewYQBqLnuz66RZAVuIyiQB+GEA=",
           "dtype": "f8"
          },
          "sizemode": "area",
          "sizeref": 0.021618667610391044,
          "symbol": "circle"
         },
         "mode": "markers",
         "name": "Java Developer",
         "orientation": "v",
         "showlegend": true,
         "type": "scatter",
         "x": {
          "bdata": "sDmkQNieI0DVBQHAHxZuQJjMh0Cz0LtAvwSkQCNbsUCvOL1A+eXXQCZZ5UC6XgRBSyuCQA==",
          "dtype": "f4"
         },
         "xaxis": "x",
         "y": {
          "bdata": "Ws+YQCSnD0C52yY/hkZqQMYg3z8ZL3NA/1tLQPDU5D/630hAEDARQI/1G0C+sEtAsOmJQA==",
          "dtype": "f4"
         },
         "yaxis": "y"
        },
        {
         "customdata": [
          [
           "Category: Mechanical Engineer<br>Similarity: 0.028",
           "Mechanical Engineer"
          ],
          [
           "Category: Mechanical Engineer<br>Similarity: 0.011",
           "Mechanical Engineer"
          ],
          [
           "Category: Mechanical Engineer<br>Similarity: 0.003",
           "Mechanical Engineer"
          ],
          [
           "Category: Mechanical Engineer<br>Similarity: 0.004",
           "Mechanical Engineer"
          ],
          [
           "Category: Mechanical Engineer<br>Similarity: 0.005",
           "Mechanical Engineer"
          ]
         ],
         "hovertemplate": "size=%{marker.size}<br>hover_text=%{customdata[0]}<extra></extra>",
         "legendgroup": "Mechanical Engineer",
         "marker": {
          "color": "#FF6692",
          "opacity": 0.7,
          "size": {
           "bdata": "jS3NnEo4FkB1ydp/g+AUQGC/p+dHQRRAlPMJ/w9SFEDA/BS0lWgUQA==",
           "dtype": "f8"
          },
          "sizemode": "area",
          "sizeref": 0.021618667610391044,
          "symbol": "circle"
         },
         "mode": "markers",
         "name": "Mechanical Engineer",
         "orientation": "v",
         "showlegend": true,
         "type": "scatter",
         "x": {
          "bdata": "AomywGVXT8Gn6lvBdIVbwd8VWcE=",
          "dtype": "f4"
         },
         "xaxis": "x",
         "y": {
          "bdata": "4BIEQTlpJkE0akhB1DRDQeR7OUE=",
          "dtype": "f4"
         },
         "yaxis": "y"
        },
        {
         "customdata": [
          [
           "Category: Network Security Engineer<br>Similarity: 0.055",
           "Network Security Engineer"
          ],
          [
           "Category: Network Security Engineer<br>Similarity: 0.057",
           "Network Security Engineer"
          ],
          [
           "Category: Network Security Engineer<br>Similarity: 0.069",
           "Network Security Engineer"
          ],
          [
           "Category: Network Security Engineer<br>Similarity: 0.046",
           "Network Security Engineer"
          ],
          [
           "Category: Network Security Engineer<br>Similarity: 0.023",
           "Network Security Engineer"
          ]
         ],
         "hovertemplate": "size=%{marker.size}<br>hover_text=%{customdata[0]}<extra></extra>",
         "legendgroup": "Network Security Engineer",
         "marker": {
          "color": "#B6E880",
          "opacity": 0.7,
          "size": {
           "bdata": "7ynqQWVjGEBuzfEAZ4sYQBqZauOvexlA21PExcC2F0AOHeE4qN8VQA==",
           "dtype": "f8"
          },
          "sizemode": "area",
          "sizeref": 0.021618667610391044,
          "symbol": "circle"
         },
         "mode": "markers",
         "name": "Network Security Engineer",
         "orientation": "v",
         "showlegend": true,
         "type": "scatter",
         "x": {
          "bdata": "A9QNQLSBTEDg0ow/tC3MP5eFGz8=",
          "dtype": "f4"
         },
         "xaxis": "x",
         "y": {
          "bdata": "idAiwQmWG8FzuirBHcQlwX06IcE=",
          "dtype": "f4"
         },
         "yaxis": "y"
        },
        {
         "customdata": [
          [
           "Category: Operations Manager<br>Similarity: 0.034",
           "Operations Manager"
          ],
          [
           "Category: Operations Manager<br>Similarity: 0.033",
           "Operations Manager"
          ],
          [
           "Category: Operations Manager<br>Similarity: 0.016",
           "Operations Manager"
          ],
          [
           "Category: Operations Manager<br>Similarity: 0.036",
           "Operations Manager"
          ]
         ],
         "hovertemplate": "size=%{marker.size}<br>hover_text=%{customdata[0]}<extra></extra>",
         "legendgroup": "Operations Manager",
         "marker": {
          "color": "#FF97FF",
          "opacity": 0.7,
          "size": {
           "bdata": "UvLHyu6wFkCmbcNhca0WQCwhO0fRUBVAKLhxOczkFkA=",
           "dtype": "f8"
          },
          "sizemode": "area",
          "sizeref": 0.021618667610391044,
          "symbol": "circle"
         },
         "mode": "markers",
         "name": "Operations Manager",
         "orientation": "v",
         "showlegend": true,
         "type": "scatter",
         "x": {
          "bdata": "P19IwL7hfMBpP5vA6BmewA==",
          "dtype": "f4"
         },
         "xaxis": "x",
         "y": {
          "bdata": "roUBQRgIAkEzygFBdConQQ==",
          "dtype": "f4"
         },
         "yaxis": "y"
        },
        {
         "customdata": [
          [
           "Category: PMO<br>Similarity: 0.079",
           "PMO"
          ],
          [
           "Category: PMO<br>Similarity: 0.063",
           "PMO"
          ],
          [
           "Category: PMO<br>Similarity: 0.037",
           "PMO"
          ]
         ],
         "hovertemplate": "size=%{marker.size}<br>hover_text=%{customdata[0]}<extra></extra>",
         "legendgroup": "PMO",
         "marker": {
          "color": "#FECB52",
          "opacity": 0.7,
          "size": {
           "bdata": "g4VhAU5WGkD97lFkkwkZQMg2Gud09xZA",
           "dtype": "f8"
          },
          "sizemode": "area",
          "sizeref": 0.021618667610391044,
          "symbol": "circle"
         },
         "mode": "markers",
         "name": "PMO",
         "orientation": "v",
         "showlegend": true,
         "type": "scatter",
         "x": {
          "bdata": "eHUWwPwyAsBMQlrA",
          "dtype": "f4"
         },
         "xaxis": "x",
         "y": {
          "bdata": "5mDdQPKx7UAFZb1A",
          "dtype": "f4"
         },
         "yaxis": "y"
        },
        {
         "customdata": [
          [
           "Category: Python Developer<br>Similarity: 0.111",
           "Python Developer"
          ],
          [
           "Category: Python Developer<br>Similarity: 0.029",
           "Python Developer"
          ],
          [
           "Category: Python Developer<br>Similarity: 0.094",
           "Python Developer"
          ],
          [
           "Category: Python Developer<br>Similarity: 0.106",
           "Python Developer"
          ],
          [
           "Category: Python Developer<br>Similarity: 0.031",
           "Python Developer"
          ],
          [
           "Category: Python Developer<br>Similarity: 0.126",
           "Python Developer"
          ]
         ],
         "hovertemplate": "size=%{marker.size}<br>hover_text=%{customdata[0]}<extra></extra>",
         "legendgroup": "Python Developer",
         "marker": {
          "color": "#636efa",
          "opacity": 0.7,
          "size": {
           "bdata": "HMgtz+zYHEDv2uTNok4WQAAP0DI+gBtA9G0gmFeBHEB14XMsq4MWQKFwijoiHR5A",
           "dtype": "f8"
          },
          "sizemode": "area",
          "sizeref": 0.021618667610391044,
          "symbol": "circle"
         },
         "mode": "markers",
         "name": "Python Developer",
         "orientation": "v",
         "showlegend": true,
         "type": "scatter",
         "x": {
          "bdata": "CFSHQO/kB0ApA0NA0u+gQDjmKUAR0pFA",
          "dtype": "f4"
         },
         "xaxis": "x",
         "y": {
          "bdata": "kzykwMbLf8B/hYbA4PKKwBkoocCW34DA",
          "dtype": "f4"
         },
         "yaxis": "y"
        },
        {
         "customdata": [
          [
           "Category: SAP Developer<br>Similarity: 0.034",
           "SAP Developer"
          ],
          [
           "Category: SAP Developer<br>Similarity: 0.015",
           "SAP Developer"
          ],
          [
           "Category: SAP Developer<br>Similarity: 0.009",
           "SAP Developer"
          ],
          [
           "Category: SAP Developer<br>Similarity: 0.019",
           "SAP Developer"
          ],
          [
           "Category: SAP Developer<br>Similarity: 0.033",
           "SAP Developer"
          ],
          [
           "Category: SAP Developer<br>Similarity: 0.026",
           "SAP Developer"
          ]
         ],
         "hovertemplate": "size=%{marker.size}<br>hover_text=%{customdata[0]}<extra></extra>",
         "legendgroup": "SAP Developer",
         "marker": {
          "color": "#EF553B",
          "opacity": 0.7,
          "size": {
           "bdata": "U6T7NQO1FkBgFF0GpS4VQNQt2SovwhRAjF2pyXCMFUB8TQ7pg6sWQBsqcbFUFBZA",
           "dtype": "f8"
          },
          "sizemode": "area",
          "sizeref": 0.021618667610391044,
          "symbol": "circle"
         },
         "mode": "markers",
         "name": "SAP Developer",
         "orientation": "v",
         "showlegend": true,
         "type": "scatter",
         "x": {
          "bdata": "EgDtPytPkUB985tA7AExQNExJEDfRS9A",
          "dtype": "f4"
         },
         "xaxis": "x",
         "y": {
          "bdata": "wu80QWYJM0FpNDtB2hETQVSTH0EQBCVB",
          "dtype": "f4"
         },
         "yaxis": "y"
        },
        {
         "customdata": [
          [
           "Category: Sales<br>Similarity: 0.000",
           "Sales"
          ],
          [
           "Category: Sales<br>Similarity: 0.015",
           "Sales"
          ],
          [
           "Category: Sales<br>Similarity: 0.016",
           "Sales"
          ],
          [
           "Category: Sales<br>Similarity: 0.029",
           "Sales"
          ],
          [
           "Category: Sales<br>Similarity: 0.018",
           "Sales"
          ]
         ],
         "hovertemplate": "size=%{marker.size}<br>hover_text=%{customdata[0]}<extra></extra>",
         "legendgroup": "Sales",
         "marker": {
          "color": "#00cc96",
          "opacity": 0.7,
          "size": {
           "bdata": "AAAAAAAAFEDATgj7mi0VQMyVx1hpTBVAWXHoWFVaFkCQXqKOdHcVQA==",
           "dtype": "f8"
          },
          "sizemode": "area",
          "sizeref": 0.021618667610391044,
          "symbol": "circle"
         },
         "mode": "markers",
         "name": "Sales",
         "orientation": "v",
         "showlegend": true,
         "type": "scatter",
         "x": {
          "bdata": "65QSQUqC8kBMwvpAIGvcQFK2BkE=",
          "dtype": "f4"
         },
         "xaxis": "x",
         "y": {
          "bdata": "LXqxwL0i+UDLvgFBtfzwQEa79EA=",
          "dtype": "f4"
         },
         "yaxis": "y"
        },
        {
         "customdata": [
          [
           "Category: Testing<br>Similarity: 0.037",
           "Testing"
          ],
          [
           "Category: Testing<br>Similarity: 0.029",
           "Testing"
          ],
          [
           "Category: Testing<br>Similarity: 0.006",
           "Testing"
          ],
          [
           "Category: Testing<br>Similarity: 0.008",
           "Testing"
          ],
          [
           "Category: Testing<br>Similarity: 0.000",
           "Testing"
          ],
          [
           "Category: Testing<br>Similarity: 0.016",
           "Testing"
          ],
          [
           "Category: Testing<br>Similarity: 0.046",
           "Testing"
          ]
         ],
         "hovertemplate": "size=%{marker.size}<br>hover_text=%{customdata[0]}<extra></extra>",
         "legendgroup": "Testing",
         "marker": {
          "color": "#ab63fa",
          "opacity": 0.7,
          "size": {
           "bdata": "4e8+w7TvFkAvBNgOtFQWQDYcTaFedBRA8bjyHsmnFEAAAAAAAAAUQGTZ3PvCTRVALO9P6JuxF0A=",
           "dtype": "f8"
          },
          "sizemode": "area",
          "sizeref": 0.021618667610391044,
          "symbol": "circle"
         },
         "mode": "markers",
         "name": "Testing",
         "orientation": "v",
         "showlegend": true,
         "type": "scatter",
         "x": {
          "bdata": "kzEBwaXdpz/7hs3AxSLmwIHaz8BpVuA/0S3MPg==",
          "dtype": "f4"
         },
         "xaxis": "x",
         "y": {
          "bdata": "PQAEQeeLlT/hzZxAP5HcQLr/o0A4d9O/pbDbPw==",
          "dtype": "f4"
         },
         "yaxis": "y"
        },
        {
         "customdata": [
          [
           "Category: Web Designing<br>Similarity: 0.025",
           "Web Designing"
          ],
          [
           "Category: Web Designing<br>Similarity: 0.067",
           "Web Designing"
          ],
          [
           "Category: Web Designing<br>Similarity: 0.000",
           "Web Designing"
          ],
          [
           "Category: Web Designing<br>Similarity: 0.029",
           "Web Designing"
          ]
         ],
         "hovertemplate": "size=%{marker.size}<br>hover_text=%{customdata[0]}<extra></extra>",
         "legendgroup": "Web Designing",
         "marker": {
          "color": "#FFA15A",
          "opacity": 0.7,
          "size": {
           "bdata": "NYk2RasGFkAEvsqUrl4ZQAAAAAAAABRA89ZX6JxRFkA=",
           "dtype": "f8"
          },
          "sizemode": "area",
          "sizeref": 0.021618667610391044,
          "symbol": "circle"
         },
         "mode": "markers",
         "name": "Web Designing",
         "orientation": "v",
         "showlegend": true,
         "type": "scatter",
         "x": {
          "bdata": "VE/vP0Cb4UBCMge/UhT2Pw==",
          "dtype": "f4"
         },
         "xaxis": "x",
         "y": {
          "bdata": "qvHGQFtRiz9E6v+/Pr7DQA==",
          "dtype": "f4"
         },
         "yaxis": "y"
        },
        {
         "hoverinfo": "text",
         "hovertext": "Your Input CV",
         "marker": {
          "color": "black",
          "line": {
           "color": "white",
           "width": 2
          },
          "size": 20,
          "symbol": "star"
         },
         "mode": "markers+text",
         "name": "Input CV",
         "text": "Your CV",
         "textposition": "middle center",
         "type": "scatter",
         "x": [
          -3.865102767944336
         ],
         "y": [
          -3.4111366271972656
         ]
        }
       ],
       "layout": {
        "height": 700,
        "hovermode": "closest",
        "legend": {
         "itemsizing": "constant",
         "orientation": "h",
         "title": {
          "text": "category"
         },
         "tracegroupgap": 0,
         "x": 1,
         "xanchor": "right",
         "y": 1.02,
         "yanchor": "bottom"
        },
        "showlegend": true,
        "template": {
         "data": {
          "bar": [
           {
            "error_x": {
             "color": "#2a3f5f"
            },
            "error_y": {
             "color": "#2a3f5f"
            },
            "marker": {
             "line": {
              "color": "#E5ECF6",
              "width": 0.5
             },
             "pattern": {
              "fillmode": "overlay",
              "size": 10,
              "solidity": 0.2
             }
            },
            "type": "bar"
           }
          ],
          "barpolar": [
           {
            "marker": {
             "line": {
              "color": "#E5ECF6",
              "width": 0.5
             },
             "pattern": {
              "fillmode": "overlay",
              "size": 10,
              "solidity": 0.2
             }
            },
            "type": "barpolar"
           }
          ],
          "carpet": [
           {
            "aaxis": {
             "endlinecolor": "#2a3f5f",
             "gridcolor": "white",
             "linecolor": "white",
             "minorgridcolor": "white",
             "startlinecolor": "#2a3f5f"
            },
            "baxis": {
             "endlinecolor": "#2a3f5f",
             "gridcolor": "white",
             "linecolor": "white",
             "minorgridcolor": "white",
             "startlinecolor": "#2a3f5f"
            },
            "type": "carpet"
           }
          ],
          "choropleth": [
           {
            "colorbar": {
             "outlinewidth": 0,
             "ticks": ""
            },
            "type": "choropleth"
           }
          ],
          "contour": [
           {
            "colorbar": {
             "outlinewidth": 0,
             "ticks": ""
            },
            "colorscale": [
             [
              0,
              "#0d0887"
             ],
             [
              0.1111111111111111,
              "#46039f"
             ],
             [
              0.2222222222222222,
              "#7201a8"
             ],
             [
              0.3333333333333333,
              "#9c179e"
             ],
             [
              0.4444444444444444,
              "#bd3786"
             ],
             [
              0.5555555555555556,
              "#d8576b"
             ],
             [
              0.6666666666666666,
              "#ed7953"
             ],
             [
              0.7777777777777778,
              "#fb9f3a"
             ],
             [
              0.8888888888888888,
              "#fdca26"
             ],
             [
              1,
              "#f0f921"
             ]
            ],
            "type": "contour"
           }
          ],
          "contourcarpet": [
           {
            "colorbar": {
             "outlinewidth": 0,
             "ticks": ""
            },
            "type": "contourcarpet"
           }
          ],
          "heatmap": [
           {
            "colorbar": {
             "outlinewidth": 0,
             "ticks": ""
            },
            "colorscale": [
             [
              0,
              "#0d0887"
             ],
             [
              0.1111111111111111,
              "#46039f"
             ],
             [
              0.2222222222222222,
              "#7201a8"
             ],
             [
              0.3333333333333333,
              "#9c179e"
             ],
             [
              0.4444444444444444,
              "#bd3786"
             ],
             [
              0.5555555555555556,
              "#d8576b"
             ],
             [
              0.6666666666666666,
              "#ed7953"
             ],
             [
              0.7777777777777778,
              "#fb9f3a"
             ],
             [
              0.8888888888888888,
              "#fdca26"
             ],
             [
              1,
              "#f0f921"
             ]
            ],
            "type": "heatmap"
           }
          ],
          "histogram": [
           {
            "marker": {
             "pattern": {
              "fillmode": "overlay",
              "size": 10,
              "solidity": 0.2
             }
            },
            "type": "histogram"
           }
          ],
          "histogram2d": [
           {
            "colorbar": {
             "outlinewidth": 0,
             "ticks": ""
            },
            "colorscale": [
             [
              0,
              "#0d0887"
             ],
             [
              0.1111111111111111,
              "#46039f"
             ],
             [
              0.2222222222222222,
              "#7201a8"
             ],
             [
              0.3333333333333333,
              "#9c179e"
             ],
             [
              0.4444444444444444,
              "#bd3786"
             ],
             [
              0.5555555555555556,
              "#d8576b"
             ],
             [
              0.6666666666666666,
              "#ed7953"
             ],
             [
              0.7777777777777778,
              "#fb9f3a"
             ],
             [
              0.8888888888888888,
              "#fdca26"
             ],
             [
              1,
              "#f0f921"
             ]
            ],
            "type": "histogram2d"
           }
          ],
          "histogram2dcontour": [
           {
            "colorbar": {
             "outlinewidth": 0,
             "ticks": ""
            },
            "colorscale": [
             [
              0,
              "#0d0887"
             ],
             [
              0.1111111111111111,
              "#46039f"
             ],
             [
              0.2222222222222222,
              "#7201a8"
             ],
             [
              0.3333333333333333,
              "#9c179e"
             ],
             [
              0.4444444444444444,
              "#bd3786"
             ],
             [
              0.5555555555555556,
              "#d8576b"
             ],
             [
              0.6666666666666666,
              "#ed7953"
             ],
             [
              0.7777777777777778,
              "#fb9f3a"
             ],
             [
              0.8888888888888888,
              "#fdca26"
             ],
             [
              1,
              "#f0f921"
             ]
            ],
            "type": "histogram2dcontour"
           }
          ],
          "mesh3d": [
           {
            "colorbar": {
             "outlinewidth": 0,
             "ticks": ""
            },
            "type": "mesh3d"
           }
          ],
          "parcoords": [
           {
            "line": {
             "colorbar": {
              "outlinewidth": 0,
              "ticks": ""
             }
            },
            "type": "parcoords"
           }
          ],
          "pie": [
           {
            "automargin": true,
            "type": "pie"
           }
          ],
          "scatter": [
           {
            "fillpattern": {
             "fillmode": "overlay",
             "size": 10,
             "solidity": 0.2
            },
            "type": "scatter"
           }
          ],
          "scatter3d": [
           {
            "line": {
             "colorbar": {
              "outlinewidth": 0,
              "ticks": ""
             }
            },
            "marker": {
             "colorbar": {
              "outlinewidth": 0,
              "ticks": ""
             }
            },
            "type": "scatter3d"
           }
          ],
          "scattercarpet": [
           {
            "marker": {
             "colorbar": {
              "outlinewidth": 0,
              "ticks": ""
             }
            },
            "type": "scattercarpet"
           }
          ],
          "scattergeo": [
           {
            "marker": {
             "colorbar": {
              "outlinewidth": 0,
              "ticks": ""
             }
            },
            "type": "scattergeo"
           }
          ],
          "scattergl": [
           {
            "marker": {
             "colorbar": {
              "outlinewidth": 0,
              "ticks": ""
             }
            },
            "type": "scattergl"
           }
          ],
          "scattermap": [
           {
            "marker": {
             "colorbar": {
              "outlinewidth": 0,
              "ticks": ""
             }
            },
            "type": "scattermap"
           }
          ],
          "scattermapbox": [
           {
            "marker": {
             "colorbar": {
              "outlinewidth": 0,
              "ticks": ""
             }
            },
            "type": "scattermapbox"
           }
          ],
          "scatterpolar": [
           {
            "marker": {
             "colorbar": {
              "outlinewidth": 0,
              "ticks": ""
             }
            },
            "type": "scatterpolar"
           }
          ],
          "scatterpolargl": [
           {
            "marker": {
             "colorbar": {
              "outlinewidth": 0,
              "ticks": ""
             }
            },
            "type": "scatterpolargl"
           }
          ],
          "scatterternary": [
           {
            "marker": {
             "colorbar": {
              "outlinewidth": 0,
              "ticks": ""
             }
            },
            "type": "scatterternary"
           }
          ],
          "surface": [
           {
            "colorbar": {
             "outlinewidth": 0,
             "ticks": ""
            },
            "colorscale": [
             [
              0,
              "#0d0887"
             ],
             [
              0.1111111111111111,
              "#46039f"
             ],
             [
              0.2222222222222222,
              "#7201a8"
             ],
             [
              0.3333333333333333,
              "#9c179e"
             ],
             [
              0.4444444444444444,
              "#bd3786"
             ],
             [
              0.5555555555555556,
              "#d8576b"
             ],
             [
              0.6666666666666666,
              "#ed7953"
             ],
             [
              0.7777777777777778,
              "#fb9f3a"
             ],
             [
              0.8888888888888888,
              "#fdca26"
             ],
             [
              1,
              "#f0f921"
             ]
            ],
            "type": "surface"
           }
          ],
          "table": [
           {
            "cells": {
             "fill": {
              "color": "#EBF0F8"
             },
             "line": {
              "color": "white"
             }
            },
            "header": {
             "fill": {
              "color": "#C8D4E3"
             },
             "line": {
              "color": "white"
             }
            },
            "type": "table"
           }
          ]
         },
         "layout": {
          "annotationdefaults": {
           "arrowcolor": "#2a3f5f",
           "arrowhead": 0,
           "arrowwidth": 1
          },
          "autotypenumbers": "strict",
          "coloraxis": {
           "colorbar": {
            "outlinewidth": 0,
            "ticks": ""
           }
          },
          "colorscale": {
           "diverging": [
            [
             0,
             "#8e0152"
            ],
            [
             0.1,
             "#c51b7d"
            ],
            [
             0.2,
             "#de77ae"
            ],
            [
             0.3,
             "#f1b6da"
            ],
            [
             0.4,
             "#fde0ef"
            ],
            [
             0.5,
             "#f7f7f7"
            ],
            [
             0.6,
             "#e6f5d0"
            ],
            [
             0.7,
             "#b8e186"
            ],
            [
             0.8,
             "#7fbc41"
            ],
            [
             0.9,
             "#4d9221"
            ],
            [
             1,
             "#276419"
            ]
           ],
           "sequential": [
            [
             0,
             "#0d0887"
            ],
            [
             0.1111111111111111,
             "#46039f"
            ],
            [
             0.2222222222222222,
             "#7201a8"
            ],
            [
             0.3333333333333333,
             "#9c179e"
            ],
            [
             0.4444444444444444,
             "#bd3786"
            ],
            [
             0.5555555555555556,
             "#d8576b"
            ],
            [
             0.6666666666666666,
             "#ed7953"
            ],
            [
             0.7777777777777778,
             "#fb9f3a"
            ],
            [
             0.8888888888888888,
             "#fdca26"
            ],
            [
             1,
             "#f0f921"
            ]
           ],
           "sequentialminus": [
            [
             0,
             "#0d0887"
            ],
            [
             0.1111111111111111,
             "#46039f"
            ],
            [
             0.2222222222222222,
             "#7201a8"
            ],
            [
             0.3333333333333333,
             "#9c179e"
            ],
            [
             0.4444444444444444,
             "#bd3786"
            ],
            [
             0.5555555555555556,
             "#d8576b"
            ],
            [
             0.6666666666666666,
             "#ed7953"
            ],
            [
             0.7777777777777778,
             "#fb9f3a"
            ],
            [
             0.8888888888888888,
             "#fdca26"
            ],
            [
             1,
             "#f0f921"
            ]
           ]
          },
          "colorway": [
           "#636efa",
           "#EF553B",
           "#00cc96",
           "#ab63fa",
           "#FFA15A",
           "#19d3f3",
           "#FF6692",
           "#B6E880",
           "#FF97FF",
           "#FECB52"
          ],
          "font": {
           "color": "#2a3f5f"
          },
          "geo": {
           "bgcolor": "white",
           "lakecolor": "white",
           "landcolor": "#E5ECF6",
           "showlakes": true,
           "showland": true,
           "subunitcolor": "white"
          },
          "hoverlabel": {
           "align": "left"
          },
          "hovermode": "closest",
          "mapbox": {
           "style": "light"
          },
          "paper_bgcolor": "white",
          "plot_bgcolor": "#E5ECF6",
          "polar": {
           "angularaxis": {
            "gridcolor": "white",
            "linecolor": "white",
            "ticks": ""
           },
           "bgcolor": "#E5ECF6",
           "radialaxis": {
            "gridcolor": "white",
            "linecolor": "white",
            "ticks": ""
           }
          },
          "scene": {
           "xaxis": {
            "backgroundcolor": "#E5ECF6",
            "gridcolor": "white",
            "gridwidth": 2,
            "linecolor": "white",
            "showbackground": true,
            "ticks": "",
            "zerolinecolor": "white"
           },
           "yaxis": {
            "backgroundcolor": "#E5ECF6",
            "gridcolor": "white",
            "gridwidth": 2,
            "linecolor": "white",
            "showbackground": true,
            "ticks": "",
            "zerolinecolor": "white"
           },
           "zaxis": {
            "backgroundcolor": "#E5ECF6",
            "gridcolor": "white",
            "gridwidth": 2,
            "linecolor": "white",
            "showbackground": true,
            "ticks": "",
            "zerolinecolor": "white"
           }
          },
          "shapedefaults": {
           "line": {
            "color": "#2a3f5f"
           }
          },
          "ternary": {
           "aaxis": {
            "gridcolor": "white",
            "linecolor": "white",
            "ticks": ""
           },
           "baxis": {
            "gridcolor": "white",
            "linecolor": "white",
            "ticks": ""
           },
           "bgcolor": "#E5ECF6",
           "caxis": {
            "gridcolor": "white",
            "linecolor": "white",
            "ticks": ""
           }
          },
          "title": {
           "x": 0.05
          },
          "xaxis": {
           "automargin": true,
           "gridcolor": "white",
           "linecolor": "white",
           "ticks": "",
           "title": {
            "standoff": 15
           },
           "zerolinecolor": "white",
           "zerolinewidth": 2
          },
          "yaxis": {
           "automargin": true,
           "gridcolor": "white",
           "linecolor": "white",
           "ticks": "",
           "title": {
            "standoff": 15
           },
           "zerolinecolor": "white",
           "zerolinewidth": 2
          }
         }
        },
        "title": {
         "text": "Input CV Position in Trained CV Space"
        },
        "width": 900,
        "xaxis": {
         "anchor": "y",
         "domain": [
          0,
          1
         ],
         "title": {
          "text": "t-SNE Dimension 1"
         }
        },
        "yaxis": {
         "anchor": "x",
         "domain": [
          0,
          1
         ],
         "title": {
          "text": "t-SNE Dimension 2"
         }
        }
       }
      },
      "text/html": [
       "<div>            <script src=\"https://cdnjs.cloudflare.com/ajax/libs/mathjax/2.7.5/MathJax.js?config=TeX-AMS-MML_SVG\"></script><script type=\"text/javascript\">if (window.MathJax && window.MathJax.Hub && window.MathJax.Hub.Config) {window.MathJax.Hub.Config({SVG: {font: \"STIX-Web\"}});}</script>                <script type=\"text/javascript\">window.PlotlyConfig = {MathJaxConfig: 'local'};</script>\n",
       "        <script charset=\"utf-8\" src=\"https://cdn.plot.ly/plotly-3.1.0.min.js\" integrity=\"sha256-Ei4740bWZhaUTQuD6q9yQlgVCMPBz6CZWhevDYPv93A=\" crossorigin=\"anonymous\"></script>                <div id=\"10dece21-5941-4c91-afeb-35496b55d50d\" class=\"plotly-graph-div\" style=\"height:700px; width:900px;\"></div>            <script type=\"text/javascript\">                window.PLOTLYENV=window.PLOTLYENV || {};                                if (document.getElementById(\"10dece21-5941-4c91-afeb-35496b55d50d\")) {                    Plotly.newPlot(                        \"10dece21-5941-4c91-afeb-35496b55d50d\",                        [{\"customdata\":[[\"Category: Advocate\\u003cbr\\u003eSimilarity: 0.003\",\"Advocate\"],[\"Category: Advocate\\u003cbr\\u003eSimilarity: 0.000\",\"Advocate\"],[\"Category: Advocate\\u003cbr\\u003eSimilarity: 0.000\",\"Advocate\"],[\"Category: Advocate\\u003cbr\\u003eSimilarity: 0.000\",\"Advocate\"],[\"Category: Advocate\\u003cbr\\u003eSimilarity: 0.002\",\"Advocate\"],[\"Category: Advocate\\u003cbr\\u003eSimilarity: 0.003\",\"Advocate\"],[\"Category: Advocate\\u003cbr\\u003eSimilarity: 0.000\",\"Advocate\"],[\"Category: Advocate\\u003cbr\\u003eSimilarity: 0.000\",\"Advocate\"],[\"Category: Advocate\\u003cbr\\u003eSimilarity: 0.000\",\"Advocate\"],[\"Category: Advocate\\u003cbr\\u003eSimilarity: 0.000\",\"Advocate\"]],\"hovertemplate\":\"size=%{marker.size}\\u003cbr\\u003ehover_text=%{customdata[0]}\\u003cextra\\u003e\\u003c\\u002fextra\\u003e\",\"legendgroup\":\"Advocate\",\"marker\":{\"color\":\"#636efa\",\"opacity\":0.7,\"size\":{\"dtype\":\"f8\",\"bdata\":\"uNPbmuQ7FEAAAAAAAAAUQAAAAAAAABRAAAAAAAAAFEBgsw5jmCcUQFHnix7vNRRAAAAAAAAAFEAAAAAAAAAUQAAAAAAAABRAAAAAAAAAFEA=\"},\"sizemode\":\"area\",\"sizeref\":0.021618667610391044,\"symbol\":\"circle\"},\"mode\":\"markers\",\"name\":\"Advocate\",\"orientation\":\"v\",\"showlegend\":true,\"x\":{\"dtype\":\"f4\",\"bdata\":\"e28zQfDc8EB07RxBnA4SQZo8K0EEDDpB4JBVwflbG0F89TBBDTVVwQ==\"},\"xaxis\":\"x\",\"y\":{\"dtype\":\"f4\",\"bdata\":\"28chwTeGA8F\\u002f4wvBJSbiwKb8G8FI0kbB2VSHwM3AFcHeZg3BpQeHwA==\"},\"yaxis\":\"y\",\"type\":\"scatter\"},{\"customdata\":[[\"Category: Arts\\u003cbr\\u003eSimilarity: 0.057\",\"Arts\"],[\"Category: Arts\\u003cbr\\u003eSimilarity: 0.000\",\"Arts\"],[\"Category: Arts\\u003cbr\\u003eSimilarity: 0.025\",\"Arts\"],[\"Category: Arts\\u003cbr\\u003eSimilarity: 0.000\",\"Arts\"],[\"Category: Arts\\u003cbr\\u003eSimilarity: 0.000\",\"Arts\"],[\"Category: Arts\\u003cbr\\u003eSimilarity: 0.000\",\"Arts\"]],\"hovertemplate\":\"size=%{marker.size}\\u003cbr\\u003ehover_text=%{customdata[0]}\\u003cextra\\u003e\\u003c\\u002fextra\\u003e\",\"legendgroup\":\"Arts\",\"marker\":{\"color\":\"#EF553B\",\"opacity\":0.7,\"size\":{\"dtype\":\"f8\",\"bdata\":\"fw0\\u002f9GaLGEAAAAAAAAAUQMJC8lWXAhZAAAAAAAAAFEAAAAAAAAAUQAAAAAAAABRA\"},\"sizemode\":\"area\",\"sizeref\":0.021618667610391044,\"symbol\":\"circle\"},\"mode\":\"markers\",\"name\":\"Arts\",\"orientation\":\"v\",\"showlegend\":true,\"x\":{\"dtype\":\"f4\",\"bdata\":\"FfUzwZ0NMMGtQBLB5X06wZ9OZ8FSVDDB\"},\"xaxis\":\"x\",\"y\":{\"dtype\":\"f4\",\"bdata\":\"HycDQbrkuEDvlKlAbrOQQGj0PEDOTLNA\"},\"yaxis\":\"y\",\"type\":\"scatter\"},{\"customdata\":[[\"Category: Automation Testing\\u003cbr\\u003eSimilarity: 0.004\",\"Automation Testing\"],[\"Category: Automation Testing\\u003cbr\\u003eSimilarity: 0.016\",\"Automation Testing\"],[\"Category: Automation Testing\\u003cbr\\u003eSimilarity: 0.069\",\"Automation Testing\"],[\"Category: Automation Testing\\u003cbr\\u003eSimilarity: 0.050\",\"Automation Testing\"],[\"Category: Automation Testing\\u003cbr\\u003eSimilarity: 0.011\",\"Automation Testing\"],[\"Category: Automation Testing\\u003cbr\\u003eSimilarity: 0.015\",\"Automation Testing\"],[\"Category: Automation Testing\\u003cbr\\u003eSimilarity: 0.064\",\"Automation Testing\"]],\"hovertemplate\":\"size=%{marker.size}\\u003cbr\\u003ehover_text=%{customdata[0]}\\u003cextra\\u003e\\u003c\\u002fextra\\u003e\",\"legendgroup\":\"Automation Testing\",\"marker\":{\"color\":\"#00cc96\",\"opacity\":0.7,\"size\":{\"dtype\":\"f8\",\"bdata\":\"Jl0N04RLFECGRJQwGUMVQEJv2d0oexlAx2Crp37+F0CSpRWfd+QUQJFa4nGdPBVAysYRh8MdGUA=\"},\"sizemode\":\"area\",\"sizeref\":0.021618667610391044,\"symbol\":\"circle\"},\"mode\":\"markers\",\"name\":\"Automation Testing\",\"orientation\":\"v\",\"showlegend\":true,\"x\":{\"dtype\":\"f4\",\"bdata\":\"MLx6v8dUsMC3Wa0+hIbdv5d4l74fWVq\\u002fiweDPw==\"},\"xaxis\":\"x\",\"y\":{\"dtype\":\"f4\",\"bdata\":\"AMaHQLl9N0F4sk1AR2tbQFhSDUBvl1BAtFtjQA==\"},\"yaxis\":\"y\",\"type\":\"scatter\"},{\"customdata\":[[\"Category: Blockchain\\u003cbr\\u003eSimilarity: 0.010\",\"Blockchain\"],[\"Category: Blockchain\\u003cbr\\u003eSimilarity: 0.143\",\"Blockchain\"],[\"Category: Blockchain\\u003cbr\\u003eSimilarity: 0.062\",\"Blockchain\"],[\"Category: Blockchain\\u003cbr\\u003eSimilarity: 0.062\",\"Blockchain\"],[\"Category: Blockchain\\u003cbr\\u003eSimilarity: 0.023\",\"Blockchain\"]],\"hovertemplate\":\"size=%{marker.size}\\u003cbr\\u003ehover_text=%{customdata[0]}\\u003cextra\\u003e\\u003c\\u002fextra\\u003e\",\"legendgroup\":\"Blockchain\",\"marker\":{\"color\":\"#ab63fa\",\"opacity\":0.7,\"size\":{\"dtype\":\"f8\",\"bdata\":\"EoYzEk\\u002fSFECB2D048HUfQHtBCOkK7hhATo9ShED3GECFrHmYsd0VQA==\"},\"sizemode\":\"area\",\"sizeref\":0.021618667610391044,\"symbol\":\"circle\"},\"mode\":\"markers\",\"name\":\"Blockchain\",\"orientation\":\"v\",\"showlegend\":true,\"x\":{\"dtype\":\"f4\",\"bdata\":\"YXCaQOQQvUBZuIpAvyi8QHFrBUE=\"},\"xaxis\":\"x\",\"y\":{\"dtype\":\"f4\",\"bdata\":\"ztKbvwE7l79er7K\\u002fAUmBvyQ+lr8=\"},\"yaxis\":\"y\",\"type\":\"scatter\"},{\"customdata\":[[\"Category: Business Analyst\\u003cbr\\u003eSimilarity: 0.019\",\"Business Analyst\"],[\"Category: Business Analyst\\u003cbr\\u003eSimilarity: 0.036\",\"Business Analyst\"],[\"Category: Business Analyst\\u003cbr\\u003eSimilarity: 0.044\",\"Business Analyst\"],[\"Category: Business Analyst\\u003cbr\\u003eSimilarity: 0.018\",\"Business Analyst\"],[\"Category: Business Analyst\\u003cbr\\u003eSimilarity: 0.024\",\"Business Analyst\"],[\"Category: Business Analyst\\u003cbr\\u003eSimilarity: 0.002\",\"Business Analyst\"]],\"hovertemplate\":\"size=%{marker.size}\\u003cbr\\u003ehover_text=%{customdata[0]}\\u003cextra\\u003e\\u003c\\u002fextra\\u003e\",\"legendgroup\":\"Business Analyst\",\"marker\":{\"color\":\"#FFA15A\",\"opacity\":0.7,\"size\":{\"dtype\":\"f8\",\"bdata\":\"UijMMWN9FUA3qfI43OMWQEqR5S3YiBdALggOL3pqFUCR3SJTb+gVQJnYyV\\u002f9JhRA\"},\"sizemode\":\"area\",\"sizeref\":0.021618667610391044,\"symbol\":\"circle\"},\"mode\":\"markers\",\"name\":\"Business Analyst\",\"orientation\":\"v\",\"showlegend\":true,\"x\":{\"dtype\":\"f4\",\"bdata\":\"0t2GwOSucsDRJGXAUOxdwEHQRL9NS7zA\"},\"xaxis\":\"x\",\"y\":{\"dtype\":\"f4\",\"bdata\":\"kChYQM\\u002fcoT+UoH1A74yCQF0xUb9vC7w\\u002f\"},\"yaxis\":\"y\",\"type\":\"scatter\"},{\"customdata\":[[\"Category: Civil Engineer\\u003cbr\\u003eSimilarity: 0.033\",\"Civil Engineer\"],[\"Category: Civil Engineer\\u003cbr\\u003eSimilarity: 0.000\",\"Civil Engineer\"],[\"Category: Civil Engineer\\u003cbr\\u003eSimilarity: 0.025\",\"Civil Engineer\"],[\"Category: Civil Engineer\\u003cbr\\u003eSimilarity: 0.027\",\"Civil Engineer\"],[\"Category: Civil Engineer\\u003cbr\\u003eSimilarity: 0.016\",\"Civil Engineer\"],[\"Category: Civil Engineer\\u003cbr\\u003eSimilarity: 0.000\",\"Civil Engineer\"]],\"hovertemplate\":\"size=%{marker.size}\\u003cbr\\u003ehover_text=%{customdata[0]}\\u003cextra\\u003e\\u003c\\u002fextra\\u003e\",\"legendgroup\":\"Civil Engineer\",\"marker\":{\"color\":\"#19d3f3\",\"opacity\":0.7,\"size\":{\"dtype\":\"f8\",\"bdata\":\"jVNknO6lFkAAAAAAAAAUQFYBsSTZ9hVAGKyNpwIiFkAWR7vL60kVQAAAAAAAABRA\"},\"sizemode\":\"area\",\"sizeref\":0.021618667610391044,\"symbol\":\"circle\"},\"mode\":\"markers\",\"name\":\"Civil Engineer\",\"orientation\":\"v\",\"showlegend\":true,\"x\":{\"dtype\":\"f4\",\"bdata\":\"gRYOwcyqK8HNnhrB9F0Uwe16I8HfZzLB\"},\"xaxis\":\"x\",\"y\":{\"dtype\":\"f4\",\"bdata\":\"BYQcQCR80T4K5Jc\\u002fFUQAQPpIjD\\u002f8ZIM+\"},\"yaxis\":\"y\",\"type\":\"scatter\"},{\"customdata\":[[\"Category: Data Science\\u003cbr\\u003eSimilarity: 0.045\",\"Data Science\"],[\"Category: Data Science\\u003cbr\\u003eSimilarity: 0.032\",\"Data Science\"],[\"Category: Data Science\\u003cbr\\u003eSimilarity: 0.078\",\"Data Science\"],[\"Category: Data Science\\u003cbr\\u003eSimilarity: 0.087\",\"Data Science\"],[\"Category: Data Science\\u003cbr\\u003eSimilarity: 0.041\",\"Data Science\"],[\"Category: Data Science\\u003cbr\\u003eSimilarity: 0.011\",\"Data Science\"],[\"Category: Data Science\\u003cbr\\u003eSimilarity: 0.032\",\"Data Science\"],[\"Category: Data Science\\u003cbr\\u003eSimilarity: 0.073\",\"Data Science\"],[\"Category: Data Science\\u003cbr\\u003eSimilarity: 0.054\",\"Data Science\"],[\"Category: Data Science\\u003cbr\\u003eSimilarity: 0.039\",\"Data Science\"]],\"hovertemplate\":\"size=%{marker.size}\\u003cbr\\u003ehover_text=%{customdata[0]}\\u003cextra\\u003e\\u003c\\u002fextra\\u003e\",\"legendgroup\":\"Data Science\",\"marker\":{\"color\":\"#FF6692\",\"opacity\":0.7,\"size\":{\"dtype\":\"f8\",\"bdata\":\"JViBURuUF0CXDCreaYcWQDvn68nfOhpACuJOXDj+GkCDeqsXxEwXQHDPYFEN1xRA5hRxZDiKFkB5qOB\\u002fnd8ZQP7c31BmWxhApPNAuE4YF0A=\"},\"sizemode\":\"area\",\"sizeref\":0.021618667610391044,\"symbol\":\"circle\"},\"mode\":\"markers\",\"name\":\"Data Science\",\"orientation\":\"v\",\"showlegend\":true,\"x\":{\"dtype\":\"f4\",\"bdata\":\"h6A4QW5tCkEqfP1AoXySQAjkAEHdCBJB25UkQaygQEFN+UZBZU0lQQ==\"},\"xaxis\":\"x\",\"y\":{\"dtype\":\"f4\",\"bdata\":\"MJ9gv+Rek8B74oXA+7M+QTGAo8A2DnvAqVuZv3Rg8L+UFATAULmKvw==\"},\"yaxis\":\"y\",\"type\":\"scatter\"},{\"customdata\":[[\"Category: Database\\u003cbr\\u003eSimilarity: 0.182\",\"Database\"],[\"Category: Database\\u003cbr\\u003eSimilarity: 0.144\",\"Database\"],[\"Category: Database\\u003cbr\\u003eSimilarity: 0.114\",\"Database\"],[\"Category: Database\\u003cbr\\u003eSimilarity: 0.161\",\"Database\"],[\"Category: Database\\u003cbr\\u003eSimilarity: 0.137\",\"Database\"],[\"Category: Database\\u003cbr\\u003eSimilarity: 0.168\",\"Database\"],[\"Category: Database\\u003cbr\\u003eSimilarity: 0.134\",\"Database\"],[\"Category: Database\\u003cbr\\u003eSimilarity: 0.137\",\"Database\"],[\"Category: Database\\u003cbr\\u003eSimilarity: 0.061\",\"Database\"],[\"Category: Database\\u003cbr\\u003eSimilarity: 0.148\",\"Database\"],[\"Category: Database\\u003cbr\\u003eSimilarity: 0.147\",\"Database\"]],\"hovertemplate\":\"size=%{marker.size}\\u003cbr\\u003ehover_text=%{customdata[0]}\\u003cextra\\u003e\\u003c\\u002fextra\\u003e\",\"legendgroup\":\"Database\",\"marker\":{\"color\":\"#B6E880\",\"opacity\":0.7,\"size\":{\"dtype\":\"f8\",\"bdata\":\"esfnzIBLIUCY4akOln8fQIi3GNqtGh1AeMALZJNuIEC+5xwCkeweQILVrw8IuyBAG1dHuSSyHkCDuVZLB+weQFXiMkOA3xhAoZwWz+PMH0AOoQlPJ7sfQA==\"},\"sizemode\":\"area\",\"sizeref\":0.021618667610391044,\"symbol\":\"circle\"},\"mode\":\"markers\",\"name\":\"Database\",\"orientation\":\"v\",\"showlegend\":true,\"x\":{\"dtype\":\"f4\",\"bdata\":\"4XfFwBAbvcANfKXAK97zwDZOrMDKhwLBrqrqwMqYqcAEROjAOPkBwe5CIUE=\"},\"xaxis\":\"x\",\"y\":{\"dtype\":\"f4\",\"bdata\":\"F\\u002fihwHMkucAD\\u002fcTAuKWGwCmaQ8B+hJHANmRjwDtNq8BzFy3A3nZlwJzlszw=\"},\"yaxis\":\"y\",\"type\":\"scatter\"},{\"customdata\":[[\"Category: DevOps Engineer\\u003cbr\\u003eSimilarity: 0.150\",\"DevOps Engineer\"],[\"Category: DevOps Engineer\\u003cbr\\u003eSimilarity: 0.087\",\"DevOps Engineer\"],[\"Category: DevOps Engineer\\u003cbr\\u003eSimilarity: 0.040\",\"DevOps Engineer\"],[\"Category: DevOps Engineer\\u003cbr\\u003eSimilarity: 0.117\",\"DevOps Engineer\"],[\"Category: DevOps Engineer\\u003cbr\\u003eSimilarity: 0.060\",\"DevOps Engineer\"],[\"Category: DevOps Engineer\\u003cbr\\u003eSimilarity: 0.074\",\"DevOps Engineer\"],[\"Category: DevOps Engineer\\u003cbr\\u003eSimilarity: 0.050\",\"DevOps Engineer\"]],\"hovertemplate\":\"size=%{marker.size}\\u003cbr\\u003ehover_text=%{customdata[0]}\\u003cextra\\u003e\\u003c\\u002fextra\\u003e\",\"legendgroup\":\"DevOps Engineer\",\"marker\":{\"color\":\"#FF97FF\",\"opacity\":0.7,\"size\":{\"dtype\":\"f8\",\"bdata\":\"mLd6g377H0AD8MkH0e8aQBa9\\u002fUVbLRdA1xmrraldHUByB49TNcgYQNy7hKFF9BlAA4es5B4GGEA=\"},\"sizemode\":\"area\",\"sizeref\":0.021618667610391044,\"symbol\":\"circle\"},\"mode\":\"markers\",\"name\":\"DevOps Engineer\",\"orientation\":\"v\",\"showlegend\":true,\"x\":{\"dtype\":\"f4\",\"bdata\":\"ujWUwHlczEBTUofAEiQkwGRjAMBYCzy\\u002fOlIWwA==\"},\"xaxis\":\"x\",\"y\":{\"dtype\":\"f4\",\"bdata\":\"h2Kqv3+zfcCk\\u002fRG\\u002frFSzwJXyz0AGvuhAHddBQA==\"},\"yaxis\":\"y\",\"type\":\"scatter\"},{\"customdata\":[[\"Category: DotNet Developer\\u003cbr\\u003eSimilarity: 0.060\",\"DotNet Developer\"],[\"Category: DotNet Developer\\u003cbr\\u003eSimilarity: 0.025\",\"DotNet Developer\"],[\"Category: DotNet Developer\\u003cbr\\u003eSimilarity: 0.030\",\"DotNet Developer\"],[\"Category: DotNet Developer\\u003cbr\\u003eSimilarity: 0.000\",\"DotNet Developer\"],[\"Category: DotNet Developer\\u003cbr\\u003eSimilarity: 0.063\",\"DotNet Developer\"],[\"Category: DotNet Developer\\u003cbr\\u003eSimilarity: 0.071\",\"DotNet Developer\"],[\"Category: DotNet Developer\\u003cbr\\u003eSimilarity: 0.049\",\"DotNet Developer\"]],\"hovertemplate\":\"size=%{marker.size}\\u003cbr\\u003ehover_text=%{customdata[0]}\\u003cextra\\u003e\\u003c\\u002fextra\\u003e\",\"legendgroup\":\"DotNet Developer\",\"marker\":{\"color\":\"#FECB52\",\"opacity\":0.7,\"size\":{\"dtype\":\"f8\",\"bdata\":\"NqIfwuXGGECrRCPNw\\u002fYVQF3qZFsscBZAAAAAAAAAFECFRJbh4A0ZQAb7WQyPpxlAdDDbFVTjF0A=\"},\"sizemode\":\"area\",\"sizeref\":0.021618667610391044,\"symbol\":\"circle\"},\"mode\":\"markers\",\"name\":\"DotNet Developer\",\"orientation\":\"v\",\"showlegend\":true,\"x\":{\"dtype\":\"f4\",\"bdata\":\"2zSYv\\u002fd4xD5\\u002fy+O+3ABkPryt579yiXm\\u002fBKmVvw==\"},\"xaxis\":\"x\",\"y\":{\"dtype\":\"f4\",\"bdata\":\"KT2kwLw3i8Bfl77AvY5xwA4vyMC+UtbACPi+wA==\"},\"yaxis\":\"y\",\"type\":\"scatter\"},{\"customdata\":[[\"Category: ETL Developer\\u003cbr\\u003eSimilarity: 0.034\",\"ETL Developer\"],[\"Category: ETL Developer\\u003cbr\\u003eSimilarity: 0.058\",\"ETL Developer\"],[\"Category: ETL Developer\\u003cbr\\u003eSimilarity: 0.091\",\"ETL Developer\"],[\"Category: ETL Developer\\u003cbr\\u003eSimilarity: 0.065\",\"ETL Developer\"],[\"Category: ETL Developer\\u003cbr\\u003eSimilarity: 0.020\",\"ETL Developer\"]],\"hovertemplate\":\"size=%{marker.size}\\u003cbr\\u003ehover_text=%{customdata[0]}\\u003cextra\\u003e\\u003c\\u002fextra\\u003e\",\"legendgroup\":\"ETL Developer\",\"marker\":{\"color\":\"#636efa\",\"opacity\":0.7,\"size\":{\"dtype\":\"f8\",\"bdata\":\"K0JxLcW5FkA2ree7xagYQHCCeENtUBtAlDH6P8UqGUAiCJMBt48VQA==\"},\"sizemode\":\"area\",\"sizeref\":0.021618667610391044,\"symbol\":\"circle\"},\"mode\":\"markers\",\"name\":\"ETL Developer\",\"orientation\":\"v\",\"showlegend\":true,\"x\":{\"dtype\":\"f4\",\"bdata\":\"YLi2vUg2Zj71SuC8ooK1Pp5Qo78=\"},\"xaxis\":\"x\",\"y\":{\"dtype\":\"f4\",\"bdata\":\"YH5VQbRaYUFgJGZBHotJQeV1WUE=\"},\"yaxis\":\"y\",\"type\":\"scatter\"},{\"customdata\":[[\"Category: Electrical Engineering\\u003cbr\\u003eSimilarity: 0.051\",\"Electrical Engineering\"],[\"Category: Electrical Engineering\\u003cbr\\u003eSimilarity: 0.005\",\"Electrical Engineering\"],[\"Category: Electrical Engineering\\u003cbr\\u003eSimilarity: 0.055\",\"Electrical Engineering\"],[\"Category: Electrical Engineering\\u003cbr\\u003eSimilarity: 0.000\",\"Electrical Engineering\"],[\"Category: Electrical Engineering\\u003cbr\\u003eSimilarity: 0.034\",\"Electrical Engineering\"]],\"hovertemplate\":\"size=%{marker.size}\\u003cbr\\u003ehover_text=%{customdata[0]}\\u003cextra\\u003e\\u003c\\u002fextra\\u003e\",\"legendgroup\":\"Electrical Engineering\",\"marker\":{\"color\":\"#EF553B\",\"opacity\":0.7,\"size\":{\"dtype\":\"f8\",\"bdata\":\"D0QkRI4XGECy1VHI0G8UQFjxBOmBZhhAAAAAAAAAFEB4k1dZJq4WQA==\"},\"sizemode\":\"area\",\"sizeref\":0.021618667610391044,\"symbol\":\"circle\"},\"mode\":\"markers\",\"name\":\"Electrical Engineering\",\"orientation\":\"v\",\"showlegend\":true,\"x\":{\"dtype\":\"f4\",\"bdata\":\"4Tj4wJx0GMFL0NbAWJwLwWek6sA=\"},\"xaxis\":\"x\",\"y\":{\"dtype\":\"f4\",\"bdata\":\"Ncc0QfBxLUGTozpB2GUyQbm2P0E=\"},\"yaxis\":\"y\",\"type\":\"scatter\"},{\"customdata\":[[\"Category: HR\\u003cbr\\u003eSimilarity: 0.009\",\"HR\"],[\"Category: HR\\u003cbr\\u003eSimilarity: 0.017\",\"HR\"],[\"Category: HR\\u003cbr\\u003eSimilarity: 0.000\",\"HR\"],[\"Category: HR\\u003cbr\\u003eSimilarity: 0.000\",\"HR\"],[\"Category: HR\\u003cbr\\u003eSimilarity: 0.045\",\"HR\"],[\"Category: HR\\u003cbr\\u003eSimilarity: 0.000\",\"HR\"],[\"Category: HR\\u003cbr\\u003eSimilarity: 0.030\",\"HR\"],[\"Category: HR\\u003cbr\\u003eSimilarity: 0.000\",\"HR\"],[\"Category: HR\\u003cbr\\u003eSimilarity: 0.004\",\"HR\"],[\"Category: HR\\u003cbr\\u003eSimilarity: 0.051\",\"HR\"]],\"hovertemplate\":\"size=%{marker.size}\\u003cbr\\u003ehover_text=%{customdata[0]}\\u003cextra\\u003e\\u003c\\u002fextra\\u003e\",\"legendgroup\":\"HR\",\"marker\":{\"color\":\"#00cc96\",\"opacity\":0.7,\"size\":{\"dtype\":\"f8\",\"bdata\":\"X1iBGiOzFEAkBtirxF8VQAAAAAAAABRAAAAAAAAAFEB6q2EIoJwXQAAAAAAAABRANDXDrIljFkAAAAAAAAAUQJYa9bQjTxRAOZYmpZMYGEA=\"},\"sizemode\":\"area\",\"sizeref\":0.021618667610391044,\"symbol\":\"circle\"},\"mode\":\"markers\",\"name\":\"HR\",\"orientation\":\"v\",\"showlegend\":true,\"x\":{\"dtype\":\"f4\",\"bdata\":\"nrjcQNo+2r\\u002fr2Oc\\u002fNbo6QTWk5j+UuNtAUZ7QQJyfKsFZfe8\\u002fvzGyQA==\"},\"xaxis\":\"x\",\"y\":{\"dtype\":\"f4\",\"bdata\":\"vk1bwYrQEkFaAXvB1PVLwUU\\u002fe8Ek5FvBVrsCwTXIGEFDbgu\\u002fINDzwA==\"},\"yaxis\":\"y\",\"type\":\"scatter\"},{\"customdata\":[[\"Category: Hadoop\\u003cbr\\u003eSimilarity: 0.077\",\"Hadoop\"],[\"Category: Hadoop\\u003cbr\\u003eSimilarity: 0.038\",\"Hadoop\"],[\"Category: Hadoop\\u003cbr\\u003eSimilarity: 0.014\",\"Hadoop\"],[\"Category: Hadoop\\u003cbr\\u003eSimilarity: 0.054\",\"Hadoop\"],[\"Category: Hadoop\\u003cbr\\u003eSimilarity: 0.072\",\"Hadoop\"],[\"Category: Hadoop\\u003cbr\\u003eSimilarity: 0.103\",\"Hadoop\"],[\"Category: Hadoop\\u003cbr\\u003eSimilarity: 0.046\",\"Hadoop\"]],\"hovertemplate\":\"size=%{marker.size}\\u003cbr\\u003ehover_text=%{customdata[0]}\\u003cextra\\u003e\\u003c\\u002fextra\\u003e\",\"legendgroup\":\"Hadoop\",\"marker\":{\"color\":\"#ab63fa\",\"opacity\":0.7,\"size\":{\"dtype\":\"f8\",\"bdata\":\"TGnLUmktGkC\\u002f1\\u002fzOEAwXQNy+jsYtHxVAAP81o4xPGEBqnAgyfLgZQOysI2okNBxArr\\u002fAwm6tF0A=\"},\"sizemode\":\"area\",\"sizeref\":0.021618667610391044,\"symbol\":\"circle\"},\"mode\":\"markers\",\"name\":\"Hadoop\",\"orientation\":\"v\",\"showlegend\":true,\"x\":{\"dtype\":\"f4\",\"bdata\":\"11jHwBuQ1sDoNLbAbnigwDNvusAsps3A6QWXwA==\"},\"xaxis\":\"x\",\"y\":{\"dtype\":\"f4\",\"bdata\":\"3RA9wX5dL8Gz0TjB1MkrwUx6LcH6Ix\\u002fBFLU8wQ==\"},\"yaxis\":\"y\",\"type\":\"scatter\"},{\"customdata\":[[\"Category: Health and fitness\\u003cbr\\u003eSimilarity: 0.000\",\"Health and fitness\"],[\"Category: Health and fitness\\u003cbr\\u003eSimilarity: 0.000\",\"Health and fitness\"],[\"Category: Health and fitness\\u003cbr\\u003eSimilarity: 0.006\",\"Health and fitness\"],[\"Category: Health and fitness\\u003cbr\\u003eSimilarity: 0.009\",\"Health and fitness\"],[\"Category: Health and fitness\\u003cbr\\u003eSimilarity: 0.014\",\"Health and fitness\"],[\"Category: Health and fitness\\u003cbr\\u003eSimilarity: 0.004\",\"Health and fitness\"]],\"hovertemplate\":\"size=%{marker.size}\\u003cbr\\u003ehover_text=%{customdata[0]}\\u003cextra\\u003e\\u003c\\u002fextra\\u003e\",\"legendgroup\":\"Health and fitness\",\"marker\":{\"color\":\"#FFA15A\",\"opacity\":0.7,\"size\":{\"dtype\":\"f8\",\"bdata\":\"AAAAAAAAFEAAAAAAAAAUQEkiNyJtfRRAHWwgYEe1FEAzVI\\u002ffJh0VQEMHakkLVhRA\"},\"sizemode\":\"area\",\"sizeref\":0.021618667610391044,\"symbol\":\"circle\"},\"mode\":\"markers\",\"name\":\"Health and fitness\",\"orientation\":\"v\",\"showlegend\":true,\"x\":{\"dtype\":\"f4\",\"bdata\":\"YU5zwV7pfcE+jIDB5KmAwYWMfsHyEn7B\"},\"xaxis\":\"x\",\"y\":{\"dtype\":\"f4\",\"bdata\":\"I\\u002fFLQCoxq0CJYnNAeTZlQDVQ20AHN7xA\"},\"yaxis\":\"y\",\"type\":\"scatter\"},{\"customdata\":[[\"Category: Java Developer\\u003cbr\\u003eSimilarity: 0.062\",\"Java Developer\"],[\"Category: Java Developer\\u003cbr\\u003eSimilarity: 0.077\",\"Java Developer\"],[\"Category: Java Developer\\u003cbr\\u003eSimilarity: 0.105\",\"Java Developer\"],[\"Category: Java Developer\\u003cbr\\u003eSimilarity: 0.085\",\"Java Developer\"],[\"Category: Java Developer\\u003cbr\\u003eSimilarity: 0.141\",\"Java Developer\"],[\"Category: Java Developer\\u003cbr\\u003eSimilarity: 0.056\",\"Java Developer\"],[\"Category: Java Developer\\u003cbr\\u003eSimilarity: 0.070\",\"Java Developer\"],[\"Category: Java Developer\\u003cbr\\u003eSimilarity: 0.081\",\"Java Developer\"],[\"Category: Java Developer\\u003cbr\\u003eSimilarity: 0.063\",\"Java Developer\"],[\"Category: Java Developer\\u003cbr\\u003eSimilarity: 0.075\",\"Java Developer\"],[\"Category: Java Developer\\u003cbr\\u003eSimilarity: 0.062\",\"Java Developer\"],[\"Category: Java Developer\\u003cbr\\u003eSimilarity: 0.036\",\"Java Developer\"],[\"Category: Java Developer\\u003cbr\\u003eSimilarity: 0.056\",\"Java Developer\"]],\"hovertemplate\":\"size=%{marker.size}\\u003cbr\\u003ehover_text=%{customdata[0]}\\u003cextra\\u003e\\u003c\\u002fextra\\u003e\",\"legendgroup\":\"Java Developer\",\"marker\":{\"color\":\"#19d3f3\",\"opacity\":0.7,\"size\":{\"dtype\":\"f8\",\"bdata\":\"5i47p4vyGECR7s6lJCoaQLwzj4tkbBxAUmwLIlrDGkCwuCKk6UUfQPYpfBeLchhA7gej+VGUGUCZ9pXaj4AaQHq8gSPnBRlAIlOZjzr3GUDyQslRrewYQBqLnuz66RZAVuIyiQB+GEA=\"},\"sizemode\":\"area\",\"sizeref\":0.021618667610391044,\"symbol\":\"circle\"},\"mode\":\"markers\",\"name\":\"Java Developer\",\"orientation\":\"v\",\"showlegend\":true,\"x\":{\"dtype\":\"f4\",\"bdata\":\"sDmkQNieI0DVBQHAHxZuQJjMh0Cz0LtAvwSkQCNbsUCvOL1A+eXXQCZZ5UC6XgRBSyuCQA==\"},\"xaxis\":\"x\",\"y\":{\"dtype\":\"f4\",\"bdata\":\"Ws+YQCSnD0C52yY\\u002fhkZqQMYg3z8ZL3NA\\u002f1tLQPDU5D\\u002f630hAEDARQI\\u002f1G0C+sEtAsOmJQA==\"},\"yaxis\":\"y\",\"type\":\"scatter\"},{\"customdata\":[[\"Category: Mechanical Engineer\\u003cbr\\u003eSimilarity: 0.028\",\"Mechanical Engineer\"],[\"Category: Mechanical Engineer\\u003cbr\\u003eSimilarity: 0.011\",\"Mechanical Engineer\"],[\"Category: Mechanical Engineer\\u003cbr\\u003eSimilarity: 0.003\",\"Mechanical Engineer\"],[\"Category: Mechanical Engineer\\u003cbr\\u003eSimilarity: 0.004\",\"Mechanical Engineer\"],[\"Category: Mechanical Engineer\\u003cbr\\u003eSimilarity: 0.005\",\"Mechanical Engineer\"]],\"hovertemplate\":\"size=%{marker.size}\\u003cbr\\u003ehover_text=%{customdata[0]}\\u003cextra\\u003e\\u003c\\u002fextra\\u003e\",\"legendgroup\":\"Mechanical Engineer\",\"marker\":{\"color\":\"#FF6692\",\"opacity\":0.7,\"size\":{\"dtype\":\"f8\",\"bdata\":\"jS3NnEo4FkB1ydp\\u002fg+AUQGC\\u002fp+dHQRRAlPMJ\\u002fw9SFEDA\\u002fBS0lWgUQA==\"},\"sizemode\":\"area\",\"sizeref\":0.021618667610391044,\"symbol\":\"circle\"},\"mode\":\"markers\",\"name\":\"Mechanical Engineer\",\"orientation\":\"v\",\"showlegend\":true,\"x\":{\"dtype\":\"f4\",\"bdata\":\"AomywGVXT8Gn6lvBdIVbwd8VWcE=\"},\"xaxis\":\"x\",\"y\":{\"dtype\":\"f4\",\"bdata\":\"4BIEQTlpJkE0akhB1DRDQeR7OUE=\"},\"yaxis\":\"y\",\"type\":\"scatter\"},{\"customdata\":[[\"Category: Network Security Engineer\\u003cbr\\u003eSimilarity: 0.055\",\"Network Security Engineer\"],[\"Category: Network Security Engineer\\u003cbr\\u003eSimilarity: 0.057\",\"Network Security Engineer\"],[\"Category: Network Security Engineer\\u003cbr\\u003eSimilarity: 0.069\",\"Network Security Engineer\"],[\"Category: Network Security Engineer\\u003cbr\\u003eSimilarity: 0.046\",\"Network Security Engineer\"],[\"Category: Network Security Engineer\\u003cbr\\u003eSimilarity: 0.023\",\"Network Security Engineer\"]],\"hovertemplate\":\"size=%{marker.size}\\u003cbr\\u003ehover_text=%{customdata[0]}\\u003cextra\\u003e\\u003c\\u002fextra\\u003e\",\"legendgroup\":\"Network Security Engineer\",\"marker\":{\"color\":\"#B6E880\",\"opacity\":0.7,\"size\":{\"dtype\":\"f8\",\"bdata\":\"7ynqQWVjGEBuzfEAZ4sYQBqZauOvexlA21PExcC2F0AOHeE4qN8VQA==\"},\"sizemode\":\"area\",\"sizeref\":0.021618667610391044,\"symbol\":\"circle\"},\"mode\":\"markers\",\"name\":\"Network Security Engineer\",\"orientation\":\"v\",\"showlegend\":true,\"x\":{\"dtype\":\"f4\",\"bdata\":\"A9QNQLSBTEDg0ow\\u002ftC3MP5eFGz8=\"},\"xaxis\":\"x\",\"y\":{\"dtype\":\"f4\",\"bdata\":\"idAiwQmWG8FzuirBHcQlwX06IcE=\"},\"yaxis\":\"y\",\"type\":\"scatter\"},{\"customdata\":[[\"Category: Operations Manager\\u003cbr\\u003eSimilarity: 0.034\",\"Operations Manager\"],[\"Category: Operations Manager\\u003cbr\\u003eSimilarity: 0.033\",\"Operations Manager\"],[\"Category: Operations Manager\\u003cbr\\u003eSimilarity: 0.016\",\"Operations Manager\"],[\"Category: Operations Manager\\u003cbr\\u003eSimilarity: 0.036\",\"Operations Manager\"]],\"hovertemplate\":\"size=%{marker.size}\\u003cbr\\u003ehover_text=%{customdata[0]}\\u003cextra\\u003e\\u003c\\u002fextra\\u003e\",\"legendgroup\":\"Operations Manager\",\"marker\":{\"color\":\"#FF97FF\",\"opacity\":0.7,\"size\":{\"dtype\":\"f8\",\"bdata\":\"UvLHyu6wFkCmbcNhca0WQCwhO0fRUBVAKLhxOczkFkA=\"},\"sizemode\":\"area\",\"sizeref\":0.021618667610391044,\"symbol\":\"circle\"},\"mode\":\"markers\",\"name\":\"Operations Manager\",\"orientation\":\"v\",\"showlegend\":true,\"x\":{\"dtype\":\"f4\",\"bdata\":\"P19IwL7hfMBpP5vA6BmewA==\"},\"xaxis\":\"x\",\"y\":{\"dtype\":\"f4\",\"bdata\":\"roUBQRgIAkEzygFBdConQQ==\"},\"yaxis\":\"y\",\"type\":\"scatter\"},{\"customdata\":[[\"Category: PMO\\u003cbr\\u003eSimilarity: 0.079\",\"PMO\"],[\"Category: PMO\\u003cbr\\u003eSimilarity: 0.063\",\"PMO\"],[\"Category: PMO\\u003cbr\\u003eSimilarity: 0.037\",\"PMO\"]],\"hovertemplate\":\"size=%{marker.size}\\u003cbr\\u003ehover_text=%{customdata[0]}\\u003cextra\\u003e\\u003c\\u002fextra\\u003e\",\"legendgroup\":\"PMO\",\"marker\":{\"color\":\"#FECB52\",\"opacity\":0.7,\"size\":{\"dtype\":\"f8\",\"bdata\":\"g4VhAU5WGkD97lFkkwkZQMg2Gud09xZA\"},\"sizemode\":\"area\",\"sizeref\":0.021618667610391044,\"symbol\":\"circle\"},\"mode\":\"markers\",\"name\":\"PMO\",\"orientation\":\"v\",\"showlegend\":true,\"x\":{\"dtype\":\"f4\",\"bdata\":\"eHUWwPwyAsBMQlrA\"},\"xaxis\":\"x\",\"y\":{\"dtype\":\"f4\",\"bdata\":\"5mDdQPKx7UAFZb1A\"},\"yaxis\":\"y\",\"type\":\"scatter\"},{\"customdata\":[[\"Category: Python Developer\\u003cbr\\u003eSimilarity: 0.111\",\"Python Developer\"],[\"Category: Python Developer\\u003cbr\\u003eSimilarity: 0.029\",\"Python Developer\"],[\"Category: Python Developer\\u003cbr\\u003eSimilarity: 0.094\",\"Python Developer\"],[\"Category: Python Developer\\u003cbr\\u003eSimilarity: 0.106\",\"Python Developer\"],[\"Category: Python Developer\\u003cbr\\u003eSimilarity: 0.031\",\"Python Developer\"],[\"Category: Python Developer\\u003cbr\\u003eSimilarity: 0.126\",\"Python Developer\"]],\"hovertemplate\":\"size=%{marker.size}\\u003cbr\\u003ehover_text=%{customdata[0]}\\u003cextra\\u003e\\u003c\\u002fextra\\u003e\",\"legendgroup\":\"Python Developer\",\"marker\":{\"color\":\"#636efa\",\"opacity\":0.7,\"size\":{\"dtype\":\"f8\",\"bdata\":\"HMgtz+zYHEDv2uTNok4WQAAP0DI+gBtA9G0gmFeBHEB14XMsq4MWQKFwijoiHR5A\"},\"sizemode\":\"area\",\"sizeref\":0.021618667610391044,\"symbol\":\"circle\"},\"mode\":\"markers\",\"name\":\"Python Developer\",\"orientation\":\"v\",\"showlegend\":true,\"x\":{\"dtype\":\"f4\",\"bdata\":\"CFSHQO\\u002fkB0ApA0NA0u+gQDjmKUAR0pFA\"},\"xaxis\":\"x\",\"y\":{\"dtype\":\"f4\",\"bdata\":\"kzykwMbLf8B\\u002fhYbA4PKKwBkoocCW34DA\"},\"yaxis\":\"y\",\"type\":\"scatter\"},{\"customdata\":[[\"Category: SAP Developer\\u003cbr\\u003eSimilarity: 0.034\",\"SAP Developer\"],[\"Category: SAP Developer\\u003cbr\\u003eSimilarity: 0.015\",\"SAP Developer\"],[\"Category: SAP Developer\\u003cbr\\u003eSimilarity: 0.009\",\"SAP Developer\"],[\"Category: SAP Developer\\u003cbr\\u003eSimilarity: 0.019\",\"SAP Developer\"],[\"Category: SAP Developer\\u003cbr\\u003eSimilarity: 0.033\",\"SAP Developer\"],[\"Category: SAP Developer\\u003cbr\\u003eSimilarity: 0.026\",\"SAP Developer\"]],\"hovertemplate\":\"size=%{marker.size}\\u003cbr\\u003ehover_text=%{customdata[0]}\\u003cextra\\u003e\\u003c\\u002fextra\\u003e\",\"legendgroup\":\"SAP Developer\",\"marker\":{\"color\":\"#EF553B\",\"opacity\":0.7,\"size\":{\"dtype\":\"f8\",\"bdata\":\"U6T7NQO1FkBgFF0GpS4VQNQt2SovwhRAjF2pyXCMFUB8TQ7pg6sWQBsqcbFUFBZA\"},\"sizemode\":\"area\",\"sizeref\":0.021618667610391044,\"symbol\":\"circle\"},\"mode\":\"markers\",\"name\":\"SAP Developer\",\"orientation\":\"v\",\"showlegend\":true,\"x\":{\"dtype\":\"f4\",\"bdata\":\"EgDtPytPkUB985tA7AExQNExJEDfRS9A\"},\"xaxis\":\"x\",\"y\":{\"dtype\":\"f4\",\"bdata\":\"wu80QWYJM0FpNDtB2hETQVSTH0EQBCVB\"},\"yaxis\":\"y\",\"type\":\"scatter\"},{\"customdata\":[[\"Category: Sales\\u003cbr\\u003eSimilarity: 0.000\",\"Sales\"],[\"Category: Sales\\u003cbr\\u003eSimilarity: 0.015\",\"Sales\"],[\"Category: Sales\\u003cbr\\u003eSimilarity: 0.016\",\"Sales\"],[\"Category: Sales\\u003cbr\\u003eSimilarity: 0.029\",\"Sales\"],[\"Category: Sales\\u003cbr\\u003eSimilarity: 0.018\",\"Sales\"]],\"hovertemplate\":\"size=%{marker.size}\\u003cbr\\u003ehover_text=%{customdata[0]}\\u003cextra\\u003e\\u003c\\u002fextra\\u003e\",\"legendgroup\":\"Sales\",\"marker\":{\"color\":\"#00cc96\",\"opacity\":0.7,\"size\":{\"dtype\":\"f8\",\"bdata\":\"AAAAAAAAFEDATgj7mi0VQMyVx1hpTBVAWXHoWFVaFkCQXqKOdHcVQA==\"},\"sizemode\":\"area\",\"sizeref\":0.021618667610391044,\"symbol\":\"circle\"},\"mode\":\"markers\",\"name\":\"Sales\",\"orientation\":\"v\",\"showlegend\":true,\"x\":{\"dtype\":\"f4\",\"bdata\":\"65QSQUqC8kBMwvpAIGvcQFK2BkE=\"},\"xaxis\":\"x\",\"y\":{\"dtype\":\"f4\",\"bdata\":\"LXqxwL0i+UDLvgFBtfzwQEa79EA=\"},\"yaxis\":\"y\",\"type\":\"scatter\"},{\"customdata\":[[\"Category: Testing\\u003cbr\\u003eSimilarity: 0.037\",\"Testing\"],[\"Category: Testing\\u003cbr\\u003eSimilarity: 0.029\",\"Testing\"],[\"Category: Testing\\u003cbr\\u003eSimilarity: 0.006\",\"Testing\"],[\"Category: Testing\\u003cbr\\u003eSimilarity: 0.008\",\"Testing\"],[\"Category: Testing\\u003cbr\\u003eSimilarity: 0.000\",\"Testing\"],[\"Category: Testing\\u003cbr\\u003eSimilarity: 0.016\",\"Testing\"],[\"Category: Testing\\u003cbr\\u003eSimilarity: 0.046\",\"Testing\"]],\"hovertemplate\":\"size=%{marker.size}\\u003cbr\\u003ehover_text=%{customdata[0]}\\u003cextra\\u003e\\u003c\\u002fextra\\u003e\",\"legendgroup\":\"Testing\",\"marker\":{\"color\":\"#ab63fa\",\"opacity\":0.7,\"size\":{\"dtype\":\"f8\",\"bdata\":\"4e8+w7TvFkAvBNgOtFQWQDYcTaFedBRA8bjyHsmnFEAAAAAAAAAUQGTZ3PvCTRVALO9P6JuxF0A=\"},\"sizemode\":\"area\",\"sizeref\":0.021618667610391044,\"symbol\":\"circle\"},\"mode\":\"markers\",\"name\":\"Testing\",\"orientation\":\"v\",\"showlegend\":true,\"x\":{\"dtype\":\"f4\",\"bdata\":\"kzEBwaXdpz\\u002f7hs3AxSLmwIHaz8BpVuA\\u002f0S3MPg==\"},\"xaxis\":\"x\",\"y\":{\"dtype\":\"f4\",\"bdata\":\"PQAEQeeLlT\\u002fhzZxAP5HcQLr\\u002fo0A4d9O\\u002fpbDbPw==\"},\"yaxis\":\"y\",\"type\":\"scatter\"},{\"customdata\":[[\"Category: Web Designing\\u003cbr\\u003eSimilarity: 0.025\",\"Web Designing\"],[\"Category: Web Designing\\u003cbr\\u003eSimilarity: 0.067\",\"Web Designing\"],[\"Category: Web Designing\\u003cbr\\u003eSimilarity: 0.000\",\"Web Designing\"],[\"Category: Web Designing\\u003cbr\\u003eSimilarity: 0.029\",\"Web Designing\"]],\"hovertemplate\":\"size=%{marker.size}\\u003cbr\\u003ehover_text=%{customdata[0]}\\u003cextra\\u003e\\u003c\\u002fextra\\u003e\",\"legendgroup\":\"Web Designing\",\"marker\":{\"color\":\"#FFA15A\",\"opacity\":0.7,\"size\":{\"dtype\":\"f8\",\"bdata\":\"NYk2RasGFkAEvsqUrl4ZQAAAAAAAABRA89ZX6JxRFkA=\"},\"sizemode\":\"area\",\"sizeref\":0.021618667610391044,\"symbol\":\"circle\"},\"mode\":\"markers\",\"name\":\"Web Designing\",\"orientation\":\"v\",\"showlegend\":true,\"x\":{\"dtype\":\"f4\",\"bdata\":\"VE\\u002fvP0Cb4UBCMge\\u002fUhT2Pw==\"},\"xaxis\":\"x\",\"y\":{\"dtype\":\"f4\",\"bdata\":\"qvHGQFtRiz9E6v+\\u002fPr7DQA==\"},\"yaxis\":\"y\",\"type\":\"scatter\"},{\"hoverinfo\":\"text\",\"hovertext\":\"Your Input CV\",\"marker\":{\"color\":\"black\",\"line\":{\"color\":\"white\",\"width\":2},\"size\":20,\"symbol\":\"star\"},\"mode\":\"markers+text\",\"name\":\"Input CV\",\"text\":\"Your CV\",\"textposition\":\"middle center\",\"x\":[-3.865102767944336],\"y\":[-3.4111366271972656],\"type\":\"scatter\"}],                        {\"height\":700,\"hovermode\":\"closest\",\"legend\":{\"itemsizing\":\"constant\",\"orientation\":\"h\",\"title\":{\"text\":\"category\"},\"tracegroupgap\":0,\"x\":1,\"xanchor\":\"right\",\"y\":1.02,\"yanchor\":\"bottom\"},\"showlegend\":true,\"template\":{\"data\":{\"barpolar\":[{\"marker\":{\"line\":{\"color\":\"#E5ECF6\",\"width\":0.5},\"pattern\":{\"fillmode\":\"overlay\",\"size\":10,\"solidity\":0.2}},\"type\":\"barpolar\"}],\"bar\":[{\"error_x\":{\"color\":\"#2a3f5f\"},\"error_y\":{\"color\":\"#2a3f5f\"},\"marker\":{\"line\":{\"color\":\"#E5ECF6\",\"width\":0.5},\"pattern\":{\"fillmode\":\"overlay\",\"size\":10,\"solidity\":0.2}},\"type\":\"bar\"}],\"carpet\":[{\"aaxis\":{\"endlinecolor\":\"#2a3f5f\",\"gridcolor\":\"white\",\"linecolor\":\"white\",\"minorgridcolor\":\"white\",\"startlinecolor\":\"#2a3f5f\"},\"baxis\":{\"endlinecolor\":\"#2a3f5f\",\"gridcolor\":\"white\",\"linecolor\":\"white\",\"minorgridcolor\":\"white\",\"startlinecolor\":\"#2a3f5f\"},\"type\":\"carpet\"}],\"choropleth\":[{\"colorbar\":{\"outlinewidth\":0,\"ticks\":\"\"},\"type\":\"choropleth\"}],\"contourcarpet\":[{\"colorbar\":{\"outlinewidth\":0,\"ticks\":\"\"},\"type\":\"contourcarpet\"}],\"contour\":[{\"colorbar\":{\"outlinewidth\":0,\"ticks\":\"\"},\"colorscale\":[[0.0,\"#0d0887\"],[0.1111111111111111,\"#46039f\"],[0.2222222222222222,\"#7201a8\"],[0.3333333333333333,\"#9c179e\"],[0.4444444444444444,\"#bd3786\"],[0.5555555555555556,\"#d8576b\"],[0.6666666666666666,\"#ed7953\"],[0.7777777777777778,\"#fb9f3a\"],[0.8888888888888888,\"#fdca26\"],[1.0,\"#f0f921\"]],\"type\":\"contour\"}],\"heatmap\":[{\"colorbar\":{\"outlinewidth\":0,\"ticks\":\"\"},\"colorscale\":[[0.0,\"#0d0887\"],[0.1111111111111111,\"#46039f\"],[0.2222222222222222,\"#7201a8\"],[0.3333333333333333,\"#9c179e\"],[0.4444444444444444,\"#bd3786\"],[0.5555555555555556,\"#d8576b\"],[0.6666666666666666,\"#ed7953\"],[0.7777777777777778,\"#fb9f3a\"],[0.8888888888888888,\"#fdca26\"],[1.0,\"#f0f921\"]],\"type\":\"heatmap\"}],\"histogram2dcontour\":[{\"colorbar\":{\"outlinewidth\":0,\"ticks\":\"\"},\"colorscale\":[[0.0,\"#0d0887\"],[0.1111111111111111,\"#46039f\"],[0.2222222222222222,\"#7201a8\"],[0.3333333333333333,\"#9c179e\"],[0.4444444444444444,\"#bd3786\"],[0.5555555555555556,\"#d8576b\"],[0.6666666666666666,\"#ed7953\"],[0.7777777777777778,\"#fb9f3a\"],[0.8888888888888888,\"#fdca26\"],[1.0,\"#f0f921\"]],\"type\":\"histogram2dcontour\"}],\"histogram2d\":[{\"colorbar\":{\"outlinewidth\":0,\"ticks\":\"\"},\"colorscale\":[[0.0,\"#0d0887\"],[0.1111111111111111,\"#46039f\"],[0.2222222222222222,\"#7201a8\"],[0.3333333333333333,\"#9c179e\"],[0.4444444444444444,\"#bd3786\"],[0.5555555555555556,\"#d8576b\"],[0.6666666666666666,\"#ed7953\"],[0.7777777777777778,\"#fb9f3a\"],[0.8888888888888888,\"#fdca26\"],[1.0,\"#f0f921\"]],\"type\":\"histogram2d\"}],\"histogram\":[{\"marker\":{\"pattern\":{\"fillmode\":\"overlay\",\"size\":10,\"solidity\":0.2}},\"type\":\"histogram\"}],\"mesh3d\":[{\"colorbar\":{\"outlinewidth\":0,\"ticks\":\"\"},\"type\":\"mesh3d\"}],\"parcoords\":[{\"line\":{\"colorbar\":{\"outlinewidth\":0,\"ticks\":\"\"}},\"type\":\"parcoords\"}],\"pie\":[{\"automargin\":true,\"type\":\"pie\"}],\"scatter3d\":[{\"line\":{\"colorbar\":{\"outlinewidth\":0,\"ticks\":\"\"}},\"marker\":{\"colorbar\":{\"outlinewidth\":0,\"ticks\":\"\"}},\"type\":\"scatter3d\"}],\"scattercarpet\":[{\"marker\":{\"colorbar\":{\"outlinewidth\":0,\"ticks\":\"\"}},\"type\":\"scattercarpet\"}],\"scattergeo\":[{\"marker\":{\"colorbar\":{\"outlinewidth\":0,\"ticks\":\"\"}},\"type\":\"scattergeo\"}],\"scattergl\":[{\"marker\":{\"colorbar\":{\"outlinewidth\":0,\"ticks\":\"\"}},\"type\":\"scattergl\"}],\"scattermapbox\":[{\"marker\":{\"colorbar\":{\"outlinewidth\":0,\"ticks\":\"\"}},\"type\":\"scattermapbox\"}],\"scattermap\":[{\"marker\":{\"colorbar\":{\"outlinewidth\":0,\"ticks\":\"\"}},\"type\":\"scattermap\"}],\"scatterpolargl\":[{\"marker\":{\"colorbar\":{\"outlinewidth\":0,\"ticks\":\"\"}},\"type\":\"scatterpolargl\"}],\"scatterpolar\":[{\"marker\":{\"colorbar\":{\"outlinewidth\":0,\"ticks\":\"\"}},\"type\":\"scatterpolar\"}],\"scatter\":[{\"fillpattern\":{\"fillmode\":\"overlay\",\"size\":10,\"solidity\":0.2},\"type\":\"scatter\"}],\"scatterternary\":[{\"marker\":{\"colorbar\":{\"outlinewidth\":0,\"ticks\":\"\"}},\"type\":\"scatterternary\"}],\"surface\":[{\"colorbar\":{\"outlinewidth\":0,\"ticks\":\"\"},\"colorscale\":[[0.0,\"#0d0887\"],[0.1111111111111111,\"#46039f\"],[0.2222222222222222,\"#7201a8\"],[0.3333333333333333,\"#9c179e\"],[0.4444444444444444,\"#bd3786\"],[0.5555555555555556,\"#d8576b\"],[0.6666666666666666,\"#ed7953\"],[0.7777777777777778,\"#fb9f3a\"],[0.8888888888888888,\"#fdca26\"],[1.0,\"#f0f921\"]],\"type\":\"surface\"}],\"table\":[{\"cells\":{\"fill\":{\"color\":\"#EBF0F8\"},\"line\":{\"color\":\"white\"}},\"header\":{\"fill\":{\"color\":\"#C8D4E3\"},\"line\":{\"color\":\"white\"}},\"type\":\"table\"}]},\"layout\":{\"annotationdefaults\":{\"arrowcolor\":\"#2a3f5f\",\"arrowhead\":0,\"arrowwidth\":1},\"autotypenumbers\":\"strict\",\"coloraxis\":{\"colorbar\":{\"outlinewidth\":0,\"ticks\":\"\"}},\"colorscale\":{\"diverging\":[[0,\"#8e0152\"],[0.1,\"#c51b7d\"],[0.2,\"#de77ae\"],[0.3,\"#f1b6da\"],[0.4,\"#fde0ef\"],[0.5,\"#f7f7f7\"],[0.6,\"#e6f5d0\"],[0.7,\"#b8e186\"],[0.8,\"#7fbc41\"],[0.9,\"#4d9221\"],[1,\"#276419\"]],\"sequential\":[[0.0,\"#0d0887\"],[0.1111111111111111,\"#46039f\"],[0.2222222222222222,\"#7201a8\"],[0.3333333333333333,\"#9c179e\"],[0.4444444444444444,\"#bd3786\"],[0.5555555555555556,\"#d8576b\"],[0.6666666666666666,\"#ed7953\"],[0.7777777777777778,\"#fb9f3a\"],[0.8888888888888888,\"#fdca26\"],[1.0,\"#f0f921\"]],\"sequentialminus\":[[0.0,\"#0d0887\"],[0.1111111111111111,\"#46039f\"],[0.2222222222222222,\"#7201a8\"],[0.3333333333333333,\"#9c179e\"],[0.4444444444444444,\"#bd3786\"],[0.5555555555555556,\"#d8576b\"],[0.6666666666666666,\"#ed7953\"],[0.7777777777777778,\"#fb9f3a\"],[0.8888888888888888,\"#fdca26\"],[1.0,\"#f0f921\"]]},\"colorway\":[\"#636efa\",\"#EF553B\",\"#00cc96\",\"#ab63fa\",\"#FFA15A\",\"#19d3f3\",\"#FF6692\",\"#B6E880\",\"#FF97FF\",\"#FECB52\"],\"font\":{\"color\":\"#2a3f5f\"},\"geo\":{\"bgcolor\":\"white\",\"lakecolor\":\"white\",\"landcolor\":\"#E5ECF6\",\"showlakes\":true,\"showland\":true,\"subunitcolor\":\"white\"},\"hoverlabel\":{\"align\":\"left\"},\"hovermode\":\"closest\",\"mapbox\":{\"style\":\"light\"},\"paper_bgcolor\":\"white\",\"plot_bgcolor\":\"#E5ECF6\",\"polar\":{\"angularaxis\":{\"gridcolor\":\"white\",\"linecolor\":\"white\",\"ticks\":\"\"},\"bgcolor\":\"#E5ECF6\",\"radialaxis\":{\"gridcolor\":\"white\",\"linecolor\":\"white\",\"ticks\":\"\"}},\"scene\":{\"xaxis\":{\"backgroundcolor\":\"#E5ECF6\",\"gridcolor\":\"white\",\"gridwidth\":2,\"linecolor\":\"white\",\"showbackground\":true,\"ticks\":\"\",\"zerolinecolor\":\"white\"},\"yaxis\":{\"backgroundcolor\":\"#E5ECF6\",\"gridcolor\":\"white\",\"gridwidth\":2,\"linecolor\":\"white\",\"showbackground\":true,\"ticks\":\"\",\"zerolinecolor\":\"white\"},\"zaxis\":{\"backgroundcolor\":\"#E5ECF6\",\"gridcolor\":\"white\",\"gridwidth\":2,\"linecolor\":\"white\",\"showbackground\":true,\"ticks\":\"\",\"zerolinecolor\":\"white\"}},\"shapedefaults\":{\"line\":{\"color\":\"#2a3f5f\"}},\"ternary\":{\"aaxis\":{\"gridcolor\":\"white\",\"linecolor\":\"white\",\"ticks\":\"\"},\"baxis\":{\"gridcolor\":\"white\",\"linecolor\":\"white\",\"ticks\":\"\"},\"bgcolor\":\"#E5ECF6\",\"caxis\":{\"gridcolor\":\"white\",\"linecolor\":\"white\",\"ticks\":\"\"}},\"title\":{\"x\":0.05},\"xaxis\":{\"automargin\":true,\"gridcolor\":\"white\",\"linecolor\":\"white\",\"ticks\":\"\",\"title\":{\"standoff\":15},\"zerolinecolor\":\"white\",\"zerolinewidth\":2},\"yaxis\":{\"automargin\":true,\"gridcolor\":\"white\",\"linecolor\":\"white\",\"ticks\":\"\",\"title\":{\"standoff\":15},\"zerolinecolor\":\"white\",\"zerolinewidth\":2}}},\"title\":{\"text\":\"Input CV Position in Trained CV Space\"},\"width\":900,\"xaxis\":{\"anchor\":\"y\",\"domain\":[0.0,1.0],\"title\":{\"text\":\"t-SNE Dimension 1\"}},\"yaxis\":{\"anchor\":\"x\",\"domain\":[0.0,1.0],\"title\":{\"text\":\"t-SNE Dimension 2\"}}},                        {\"responsive\": true}                    ).then(function(){\n",
       "                            \n",
       "var gd = document.getElementById('10dece21-5941-4c91-afeb-35496b55d50d');\n",
       "var x = new MutationObserver(function (mutations, observer) {{\n",
       "        var display = window.getComputedStyle(gd).display;\n",
       "        if (!display || display === 'none') {{\n",
       "            console.log([gd, 'removed!']);\n",
       "            Plotly.purge(gd);\n",
       "            observer.disconnect();\n",
       "        }}\n",
       "}});\n",
       "\n",
       "// Listen for the removal of the full notebook cells\n",
       "var notebookContainer = gd.closest('#notebook-container');\n",
       "if (notebookContainer) {{\n",
       "    x.observe(notebookContainer, {childList: true});\n",
       "}}\n",
       "\n",
       "// Listen for the clearing of the current output cell\n",
       "var outputEl = gd.closest('.output');\n",
       "if (outputEl) {{\n",
       "    x.observe(outputEl, {childList: true});\n",
       "}}\n",
       "\n",
       "                        })                };            </script>        </div>"
      ]
     },
     "metadata": {},
     "output_type": "display_data"
    }
   ],
   "source": [
    "fig = visualize_cv_in_trained_space(\n",
    "    similarities=similariries,\n",
    "    documents=documents,\n",
    "    categories=categories,\n",
    "    input_cv_text=text_cv,\n",
    "    vectorizer=vectorizer  # Pass your already fitted vectorizer\n",
    ")"
   ]
  },
  {
   "cell_type": "code",
   "execution_count": null,
   "id": "17928566",
   "metadata": {},
   "outputs": [],
   "source": [
    "results = enhanced_find_top_categories(text_cv, json_file, top_n=5)"
   ]
  },
  {
   "cell_type": "code",
   "execution_count": 8,
   "id": "cbe5d755",
   "metadata": {},
   "outputs": [
    {
     "name": "stdout",
     "output_type": "stream",
     "text": [
      "1. Data Science: 31.49%\n",
      "2. Python Developer: 18.22%\n",
      "3. Web Designing: 12.16%\n",
      "4. Blockchain: 8.81%\n",
      "5. DevOps Engineer: 8.61%\n"
     ]
    }
   ],
   "source": [
    "print_formatted_results(results)\n",
    "target_job,_ =  results[0]"
   ]
  },
  {
   "cell_type": "code",
   "execution_count": null,
   "id": "de13a052",
   "metadata": {},
   "outputs": [
    {
     "name": "stdout",
     "output_type": "stream",
     "text": [
      "Top missing keywords:\n",
      "data science: importance=0.2271\n",
      "science: importance=0.1672\n",
      "analytics: importance=0.1657\n",
      "exprience year: importance=0.1531\n",
      "month: importance=0.1483\n",
      "year month: importance=0.1364\n",
      "year: importance=0.1353\n",
      "exprience: importance=0.1337\n",
      "deep: importance=0.1263\n",
      "sap: importance=0.1039\n",
      "=== CV Gap Analysis for 'Data Science' ===\n",
      "\n",
      "📊 Top keywords in your CV:\n",
      "   python machine: 0.3491\n",
      "   background: 0.3291\n",
      "   data analysis: 0.3291\n",
      "   software developer: 0.3136\n",
      "   experienced: 0.2809\n",
      "   text: 0.2588\n",
      "   cloud: 0.2527\n",
      "   machine learning: 0.2372\n",
      "   strong: 0.2327\n",
      "   machine: 0.2075\n",
      "\n",
      "🎯 Top keywords expected for 'Data Science':\n",
      "   data: 0.3043\n",
      "   learning: 0.2421\n",
      "   data science: 0.2271\n",
      "   machine learning: 0.2065\n",
      "   python: 0.2011\n",
      "   machine: 0.2007\n",
      "   science: 0.1672\n",
      "   analytics: 0.1657\n",
      "   exprience year: 0.1531\n",
      "   month: 0.1483\n",
      "   year month: 0.1364\n",
      "   year: 0.1353\n",
      "   exprience: 0.1337\n",
      "   deep: 0.1263\n",
      "   sap: 0.1039\n",
      "\n",
      "🔍 Missing/weak keywords for 'Data Science':\n",
      "   1. data science\n",
      "      Importance: 0.2271 (Target: 0.2271, Your CV: 0.0000)\n",
      "   2. science\n",
      "      Importance: 0.1672 (Target: 0.1672, Your CV: 0.0000)\n",
      "   3. analytics\n",
      "      Importance: 0.1657 (Target: 0.1657, Your CV: 0.0000)\n",
      "   4. exprience year\n",
      "      Importance: 0.1531 (Target: 0.1531, Your CV: 0.0000)\n",
      "   5. month\n",
      "      Importance: 0.1483 (Target: 0.1483, Your CV: 0.0000)\n",
      "   6. year month\n",
      "      Importance: 0.1364 (Target: 0.1364, Your CV: 0.0000)\n",
      "   7. year\n",
      "      Importance: 0.1353 (Target: 0.1353, Your CV: 0.0000)\n",
      "   8. exprience\n",
      "      Importance: 0.1337 (Target: 0.1337, Your CV: 0.0000)\n",
      "   9. deep\n",
      "      Importance: 0.1263 (Target: 0.1263, Your CV: 0.0000)\n",
      "   10. sap\n",
      "      Importance: 0.1039 (Target: 0.1039, Your CV: 0.0000)\n",
      "To better match 'Data Science', consider adding:\n",
      "• Soft skills: data science, science, analytics\n",
      "\n",
      "💡 Tips:\n",
      "- Add specific projects using these technologies\n",
      "- Include metrics and results achieved\n",
      "- Consider getting certifications in missing areas\n",
      "- Tailor your experience descriptions to highlight relevant skills\n"
     ]
    }
   ],
   "source": [
    "missing_keywords = find_missing_keywords(\n",
    "    input_cv_text=text_cv,\n",
    "    target_category=target_job,\n",
    "    category_data=category_resumes,\n",
    "    vectorizer=vectorizer,\n",
    "    top_n=10\n",
    ")\n",
    "\n",
    "print(\"Top missing keywords:\")\n",
    "for keyword, importance, target_score, input_score in missing_keywords:\n",
    "    print(f\"{keyword}: importance={importance:.4f}\")\n",
    "\n",
    "analyze_cv_gaps(text_cv, target_job, category_resumes, vectorizer)\n",
    "\n",
    "suggestions = suggest_improvements(text_cv, target_job, category_resumes, vectorizer)\n",
    "for suggestion in suggestions:\n",
    "    print(suggestion)"
   ]
  }
 ],
 "metadata": {
  "kernelspec": {
   "display_name": "cv_env",
   "language": "python",
   "name": "python3"
  },
  "language_info": {
   "codemirror_mode": {
    "name": "ipython",
    "version": 3
   },
   "file_extension": ".py",
   "mimetype": "text/x-python",
   "name": "python",
   "nbconvert_exporter": "python",
   "pygments_lexer": "ipython3",
   "version": "3.12.3"
  }
 },
 "nbformat": 4,
 "nbformat_minor": 5
}
